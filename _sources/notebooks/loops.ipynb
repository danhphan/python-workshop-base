{
 "cells": [
  {
   "cell_type": "markdown",
   "id": "097839d7",
   "metadata": {},
   "source": [
    "# Automation with Loops"
   ]
  },
  {
   "cell_type": "markdown",
   "id": "00b56f40",
   "metadata": {
    "tags": [
     "solution"
    ]
   },
   "source": [
    "```{toggle}\n",
    "## Instructor notes\n",
    "\n",
    "*Estimated teaching time:* 30 min\n",
    "\n",
    "*Estimated challenge time:* 0 min\n",
    "\n",
    "*Key questions:*\n",
    "\n",
    "  - \"How can I do the same operations on many different values?\"\"\n",
    "    \n",
    "*Learning objectives:*\n",
    "\n",
    "  - \"Explain what a `for` loop does.\"\n",
    "  - \"Correctly write `for` loops to repeat simple calculations.\"\n",
    "  - \"Trace changes to a loop variable as the loop runs.\"\n",
    "  - \"Trace changes to other variables as they are updated by a `for` loop.\"\n",
    "\n",
    "*Key points:*\n",
    "\n",
    "  - \"Use `for variable in sequence` to process the elements of a sequence one at a time.\"\n",
    "  - \"The body of a `for` loop must be indented.\"\n",
    "  - \"Use `len(thing)` to determine the length of something that contains other values.\"\n",
    "\n",
    "---\n",
    "```"
   ]
  },
  {
   "cell_type": "markdown",
   "id": "bc940ee7",
   "metadata": {},
   "source": [
    "An example task that we might want to repeat is printing each character in a\n",
    "word on a line of its own."
   ]
  },
  {
   "cell_type": "code",
   "execution_count": 1,
   "id": "26b0c085",
   "metadata": {},
   "outputs": [],
   "source": [
    "word = 'lead'"
   ]
  },
  {
   "cell_type": "markdown",
   "id": "1315fd5f",
   "metadata": {},
   "source": [
    "We can access a character in a string using its index. For example, we can get the first\n",
    "character of the word `'lead'`, by using `word[0]`. One way to print each character is to use\n",
    "four `print` statements:"
   ]
  },
  {
   "cell_type": "code",
   "execution_count": 2,
   "id": "00b404dd",
   "metadata": {},
   "outputs": [
    {
     "name": "stdout",
     "output_type": "stream",
     "text": [
      "l\n",
      "e\n",
      "a\n",
      "d\n"
     ]
    }
   ],
   "source": [
    "print(word[0])\n",
    "print(word[1])\n",
    "print(word[2])\n",
    "print(word[3])"
   ]
  },
  {
   "cell_type": "markdown",
   "id": "2412d0ff",
   "metadata": {},
   "source": [
    "While this works, it's a bad approach for two reasons:\n",
    "\n",
    "1. It doesn't scale:\n",
    "   if we want to print the characters in a string that's hundreds of letters long,\n",
    "   we'd be better off just typing them in.\n",
    "\n",
    "2. It's fragile:\n",
    "   if we give it a longer string,\n",
    "   it only prints part of the data,\n",
    "   and if we give it a shorter one,\n",
    "   it produces an error because we're asking for characters that don't exist."
   ]
  },
  {
   "cell_type": "markdown",
   "id": "9e21f7a1",
   "metadata": {},
   "source": [
    "Running:\n",
    "\n",
    "```python\n",
    "word = 'tin'\n",
    "print(word[0])\n",
    "print(word[1])\n",
    "print(word[2])\n",
    "print(word[3])\n",
    "```"
   ]
  },
  {
   "cell_type": "markdown",
   "id": "6dad424a",
   "metadata": {},
   "source": [
    "Gives the error:\n",
    "\n",
    "```\n",
    "---------------------------------------------------------------------------\n",
    "IndexError                                Traceback (most recent call last)\n",
    "<ipython-input-4-e59d5eac5430> in <module>()\n",
    "      3 print(word[1])\n",
    "      4 print(word[2])\n",
    "----> 5 print(word[3])\n",
    "\n",
    "IndexError: string index out of range\n",
    "```"
   ]
  },
  {
   "cell_type": "markdown",
   "id": "5cb09b1e",
   "metadata": {},
   "source": [
    "Here's a better approach:"
   ]
  },
  {
   "cell_type": "code",
   "execution_count": 3,
   "id": "34b70e5e",
   "metadata": {},
   "outputs": [
    {
     "name": "stdout",
     "output_type": "stream",
     "text": [
      "l\n",
      "e\n",
      "a\n",
      "d\n"
     ]
    }
   ],
   "source": [
    "word = 'lead'\n",
    "for char in word:\n",
    "    print(char)"
   ]
  },
  {
   "cell_type": "markdown",
   "id": "cd61c84b",
   "metadata": {},
   "source": [
    "This is shorter --- certainly shorter than something that prints every character in a hundred-letter string --- and\n",
    "more robust as well:"
   ]
  },
  {
   "cell_type": "code",
   "execution_count": 4,
   "id": "158ae559",
   "metadata": {},
   "outputs": [
    {
     "name": "stdout",
     "output_type": "stream",
     "text": [
      "o\n",
      "x\n",
      "y\n",
      "g\n",
      "e\n",
      "n\n"
     ]
    }
   ],
   "source": [
    "word = 'oxygen'\n",
    "for char in word:\n",
    "    print(char)"
   ]
  },
  {
   "cell_type": "markdown",
   "id": "aa228205",
   "metadata": {},
   "source": [
    "The improved version uses a **for loop** to repeat an operation --- in this case, printing --- once for each thing in a sequence.\n",
    "The general form of a loop is:\n",
    "\n",
    "```python\n",
    "for variable in collection:\n",
    "    # do things with variable\n",
    "```"
   ]
  },
  {
   "cell_type": "markdown",
   "id": "af8597cf",
   "metadata": {},
   "source": [
    "Using the oxygen example above, the loop might look like this:\n",
    "\n",
    "![loop_image](images/loops_image.png)\n",
    "\n",
    "where each character (`char`) in the variable `word` is looped through and printed one character after another.\n",
    "The numbers in the diagram denote which loop cycle the character was printed in (1 being the first loop, and 6 being the final loop).\n",
    "\n",
    "We can call the **loop variable** anything we like,\n",
    "but there must be a colon at the end of the line starting the loop, and we must indent anything we want to run inside the loop. Unlike many other languages, there is no command to signify the end of the loop body (e.g. `end for`); what is indented after the `for` statement belongs to the loop."
   ]
  },
  {
   "cell_type": "markdown",
   "id": "1befd2c1",
   "metadata": {},
   "source": [
    "## What's in a name?\n",
    "\n",
    "\n",
    "In the example above, the loop variable was given the name `char` as a mnemonic; it is short for 'character'. \n",
    "We can choose any name we want for variables. We might just as easily have chosen the name `banana` for the loop variable, as long as we use the same name when we invoke the variable inside the loop:"
   ]
  },
  {
   "cell_type": "code",
   "execution_count": 5,
   "id": "ffb0f2aa",
   "metadata": {},
   "outputs": [
    {
     "name": "stdout",
     "output_type": "stream",
     "text": [
      "o\n",
      "x\n",
      "y\n",
      "g\n",
      "e\n",
      "n\n"
     ]
    }
   ],
   "source": [
    "word = 'oxygen'\n",
    "for banana in word:\n",
    "    print(banana)"
   ]
  },
  {
   "cell_type": "markdown",
   "id": "eebb3863",
   "metadata": {},
   "source": [
    "It is a good idea to choose variable names that are meaningful, otherwise it would be more difficult to understand what the loop is doing.\n",
    "\n",
    "\n",
    "Here's another loop that repeatedly updates a variable:"
   ]
  },
  {
   "cell_type": "code",
   "execution_count": 6,
   "id": "ef0023c8",
   "metadata": {},
   "outputs": [
    {
     "name": "stdout",
     "output_type": "stream",
     "text": [
      "There are 5 vowels\n"
     ]
    }
   ],
   "source": [
    "length = 0\n",
    "for vowel in 'aeiou':\n",
    "    length = length + 1\n",
    "print('There are', length, 'vowels')"
   ]
  },
  {
   "cell_type": "markdown",
   "id": "76f5d798",
   "metadata": {},
   "source": [
    "It's worth tracing the execution of this little program step by step.\n",
    "\n",
    "Since there are five characters in `'aeiou'`,\n",
    "the statement on line 3 will be executed five times.\n",
    "\n",
    "The first time around,\n",
    "`length` is zero (the value assigned to it on line 1)\n",
    "and `vowel` is `'a'`.\n",
    "The statement adds 1 to the old value of `length`,\n",
    "producing 1,\n",
    "and updates `length` to refer to that new value.\n",
    "\n",
    "The next time around,\n",
    "`vowel` is `'e'` and `length` is 1,\n",
    "so `length` is updated to be 2.\n",
    "\n",
    "After three more updates,\n",
    "`length` is 5;\n",
    "since there is nothing left in `'aeiou'` for Python to process,\n",
    "the loop finishes\n",
    "and the `print` statement on line 4 tells us our final answer.\n",
    "\n",
    "Note that a loop variable `vowel` is just a variable that's being used to record progress in a loop."
   ]
  },
  {
   "cell_type": "markdown",
   "id": "36c0aea6",
   "metadata": {},
   "source": [
    "## Challenge - scope of the loop variable\n",
    "\n",
    "1. In the loop over `\"aeiou\"` above, does the loop variable `vowel` exist after the loop has finished ?"
   ]
  },
  {
   "cell_type": "code",
   "execution_count": 7,
   "id": "a969f1f5",
   "metadata": {},
   "outputs": [
    {
     "name": "stdout",
     "output_type": "stream",
     "text": [
      "After the loop, `vowel` exists and has the value: u\n"
     ]
    }
   ],
   "source": [
    "length = 0\n",
    "for vowel in 'aeiou':\n",
    "    length = length + 1\n",
    "print('After the loop, `vowel` exists and has the value: ' + vowel)\n",
    "\n",
    "# The loop variable `vowel` exists after the loop is completed, not only inside the loop"
   ]
  },
  {
   "cell_type": "markdown",
   "id": "b5b48693",
   "metadata": {},
   "source": [
    "Note also that finding the length of a string is such a common operation that Python actually has a built-in function to do it called `len`:"
   ]
  },
  {
   "cell_type": "code",
   "execution_count": 8,
   "id": "faadeff4",
   "metadata": {},
   "outputs": [
    {
     "name": "stdout",
     "output_type": "stream",
     "text": [
      "5\n"
     ]
    }
   ],
   "source": [
    "print(len('aeiou'))"
   ]
  },
  {
   "cell_type": "markdown",
   "id": "217d0fa5",
   "metadata": {},
   "source": [
    "`len` is much faster than any function we could write ourselves,\n",
    "and much easier to read than a two-line loop;\n",
    "it will also give us the length of many other things that we haven't met yet,\n",
    "so we should always use it when we can."
   ]
  },
  {
   "cell_type": "markdown",
   "id": "25935d66",
   "metadata": {},
   "source": [
    "## From 1 to N\n",
    "\n",
    "Python has a built-in function called `range` that creates a sequence of numbers. `range` can\n",
    "accept 1, 2, or 3 parameters.\n",
    "\n",
    "* If one parameter is given, `range` creates an array of that length,\n",
    "  starting at zero and incrementing by 1.\n",
    "  For example, `range(3)` produces the numbers `0, 1, 2`.\n",
    "* If two parameters are given, `range` starts at\n",
    "  the first and ends just before the second, incrementing by one.\n",
    "  For example, `range(2, 5)` produces `2, 3, 4`.\n",
    "* If `range` is given 3 parameters,\n",
    "  it starts at the first one, ends just before the second one, and increments by the third one.\n",
    "  For exmaple `range(3, 10, 2)` produces `3, 5, 7, 9`."
   ]
  },
  {
   "cell_type": "markdown",
   "id": "663c03c7",
   "metadata": {
    "tags": [
     "challenge"
    ]
   },
   "source": [
    "## Challenge - loop over a range\n",
    "Using `range`,\n",
    "write a loop that uses `range` to print the first 3 natural numbers:\n",
    "\n",
    "```\n",
    "1\n",
    "2\n",
    "3\n",
    "```"
   ]
  },
  {
   "cell_type": "markdown",
   "id": "0f9e2291",
   "metadata": {
    "tags": [
     "solution"
    ]
   },
   "source": [
    "## Solution"
   ]
  },
  {
   "cell_type": "code",
   "execution_count": 9,
   "id": "afe993d1",
   "metadata": {
    "tags": [
     "solution"
    ]
   },
   "outputs": [
    {
     "name": "stdout",
     "output_type": "stream",
     "text": [
      "1\n",
      "2\n",
      "3\n"
     ]
    }
   ],
   "source": [
    "for i in range(1, 4):\n",
    "   print(i)"
   ]
  },
  {
   "cell_type": "markdown",
   "id": "b097a304",
   "metadata": {},
   "source": [
    "## Computing Powers With Loops\n",
    "\n",
    "Exponentiation is built into Python:"
   ]
  },
  {
   "cell_type": "code",
   "execution_count": 10,
   "id": "28d874c3",
   "metadata": {},
   "outputs": [
    {
     "name": "stdout",
     "output_type": "stream",
     "text": [
      "125\n"
     ]
    }
   ],
   "source": [
    "print(5 ** 3)"
   ]
  },
  {
   "cell_type": "markdown",
   "id": "b8a9493d",
   "metadata": {
    "tags": [
     "challenge"
    ]
   },
   "source": [
    "## Challenge - multiplication in a loop\n",
    "\n",
    "Write a loop that calculates the same result as `5 ** 3` using\n",
    "multiplication (and without exponentiation)."
   ]
  },
  {
   "cell_type": "markdown",
   "id": "559e19b5",
   "metadata": {
    "tags": [
     "solution"
    ]
   },
   "source": [
    "## Solution"
   ]
  },
  {
   "cell_type": "code",
   "execution_count": 11,
   "id": "01776711",
   "metadata": {
    "tags": [
     "solution"
    ]
   },
   "outputs": [
    {
     "name": "stdout",
     "output_type": "stream",
     "text": [
      "125\n"
     ]
    }
   ],
   "source": [
    "result = 1\n",
    "for i in range(0, 3):\n",
    "   result = result * 5\n",
    "print(result)"
   ]
  },
  {
   "cell_type": "markdown",
   "id": "eba09875",
   "metadata": {
    "tags": [
     "challenge"
    ]
   },
   "source": [
    "## Bonus challenge: reverse a string\n",
    "\n",
    "Knowing that two strings can be concatenated using the `+` operator,\n",
    "write a loop that takes a string\n",
    "and produces a new string with the characters in reverse order,\n",
    "so `'Newton'` becomes `'notweN'`."
   ]
  },
  {
   "cell_type": "markdown",
   "id": "8dfcd409",
   "metadata": {
    "tags": [
     "solution"
    ]
   },
   "source": [
    "## Solution"
   ]
  },
  {
   "cell_type": "code",
   "execution_count": 12,
   "id": "afeaf7df",
   "metadata": {
    "tags": [
     "solution"
    ]
   },
   "outputs": [
    {
     "name": "stdout",
     "output_type": "stream",
     "text": [
      "notweN\n"
     ]
    }
   ],
   "source": [
    "newstring = ''\n",
    "oldstring = 'Newton'\n",
    "for char in oldstring:\n",
    "   newstring = char + newstring\n",
    "print(newstring)"
   ]
  },
  {
   "cell_type": "markdown",
   "id": "f24c0526",
   "metadata": {},
   "source": [
    "## Enumerate\n",
    "\n",
    "The built-in function `enumerate` takes a sequence (e.g. a list) and generates a\n",
    "new sequence of the same length. Each element of the new sequence is a pair composed of the index\n",
    "(0, 1, 2,...) and the value from the original sequence:\n",
    "\n",
    "```\n",
    "for i, x in enumerate(xs):\n",
    "    # Do something with i and x\n",
    "```\n",
    "\n",
    "\n",
    "The code above loops through `xs`, assigning the index to `i` and the value to `x`."
   ]
  },
  {
   "cell_type": "markdown",
   "id": "968f629b",
   "metadata": {
    "tags": [
     "challenge"
    ]
   },
   "source": [
    "## Bonus challenge: enumeration for computing the value of a polynomial\n",
    "\n",
    "Suppose you have encoded a polynomial as a list of coefficients in\n",
    "the following way: the first element is the constant term, the\n",
    "second element is the coefficient of the linear term, the third is the\n",
    "coefficient of the quadratic term, etc.\n",
    "\n",
    "```\n",
    "x = 5\n",
    "cc = [2, 4, 3]\n",
    "```\n",
    "\n",
    "\n",
    "```\n",
    "y = cc[0] * x**0 + cc[1] * x**1 + cc[2] * x**2\n",
    "y = 97\n",
    "```\n",
    "\n",
    "\n",
    "Write a loop using `enumerate(cc)` which computes the value `y` of any\n",
    "polynomial, given `x` and `cc`."
   ]
  },
  {
   "cell_type": "markdown",
   "id": "01b1aa08",
   "metadata": {
    "tags": [
     "solution"
    ]
   },
   "source": [
    "## Solution"
   ]
  },
  {
   "cell_type": "code",
   "execution_count": 13,
   "id": "177ecfc3",
   "metadata": {
    "tags": [
     "solution"
    ]
   },
   "outputs": [
    {
     "name": "stdout",
     "output_type": "stream",
     "text": [
      "97\n"
     ]
    }
   ],
   "source": [
    "x = 5\n",
    "cc = [2, 4, 3]\n",
    "y = cc[0] * x**0 + cc[1] * x**1 + cc[2] * x**2\n",
    "\n",
    "y = 0\n",
    "for i, c in enumerate(cc):\n",
    "    y = y + x**i * c\n",
    "    \n",
    "print(y)"
   ]
  },
  {
   "cell_type": "code",
   "execution_count": null,
   "id": "f62753f2",
   "metadata": {},
   "outputs": [],
   "source": []
  }
 ],
 "metadata": {
  "jupytext": {
   "formats": "ipynb,md:myst",
   "text_representation": {
    "extension": ".md",
    "format_name": "myst",
    "format_version": 0.13,
    "jupytext_version": "1.11.5"
   }
  },
  "kernelspec": {
   "display_name": "Python 3",
   "language": "python",
   "name": "python3"
  },
  "language_info": {
   "codemirror_mode": {
    "name": "ipython",
    "version": 3
   },
   "file_extension": ".py",
   "mimetype": "text/x-python",
   "name": "python",
   "nbconvert_exporter": "python",
   "pygments_lexer": "ipython3",
   "version": "3.8.5"
  },
  "source_map": [
   13,
   17,
   46,
   51,
   53,
   59,
   64,
   79,
   91,
   106,
   113,
   117,
   122,
   126,
   136,
   151,
   160,
   164,
   171,
   176,
   202,
   208,
   215,
   219,
   221,
   228,
   246,
   260,
   264,
   269,
   275,
   279,
   286,
   290,
   299,
   308,
   312,
   320,
   336,
   360,
   364,
   378
  ]
 },
 "nbformat": 4,
 "nbformat_minor": 5
}