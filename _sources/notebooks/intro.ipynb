{
 "cells": [
  {
   "cell_type": "markdown",
   "id": "6d08e33c",
   "metadata": {
    "slideshow": {
     "slide_type": "slide"
    }
   },
   "source": [
    "# Introduction - The Basics of Python"
   ]
  },
  {
   "cell_type": "markdown",
   "id": "b8ff805a",
   "metadata": {},
   "source": [
    "Python is a general purpose programming language that supports rapid development\n",
    "of scripts and applications.\n",
    "\n",
    "Python's main advantages:\n",
    "\n",
    "* Open Source software, supported by Python Software Foundation\n",
    "* Available on all major platforms (ie. Windows, Linux and MacOS) \n",
    "* It is a general-purpose programming language, designed for readability\n",
    "* Supports multiple programming paradigms ('functional', 'object oriented')\n",
    "* Very large community with a rich ecosystem of third-party packages"
   ]
  },
  {
   "cell_type": "markdown",
   "id": "443c1d52",
   "metadata": {},
   "source": [
    "## Interpreter\n",
    "\n",
    "Python is an interpreted language[*](https://softwareengineering.stackexchange.com/a/24560) which can be used in two ways:\n",
    "\n",
    "* \"Interactive\" Mode: It functions like an \"advanced calculator\", executing\n",
    "  one command at a time:\n",
    "  \n",
    "```bash\n",
    "user:host:~$ python\n",
    "Python 3.5.1 (default, Oct 23 2015, 18:05:06)\n",
    "[GCC 4.8.3] on linux2\n",
    "Type \"help\", \"copyright\", \"credits\" or \"license\" for more information.\n",
    ">>> 2 + 2\n",
    "4\n",
    ">>> print(\"Hello World\")\n",
    "Hello World\n",
    "```"
   ]
  },
  {
   "cell_type": "markdown",
   "id": "0b57b8c9",
   "metadata": {},
   "source": [
    "* \"Scripting\" Mode: Executing a series of \"commands\" saved in text file,\n",
    "  usually with a `.py` extension after the name of your file:\n",
    "\n",
    "```bash\n",
    "user:host:~$ python my_script.py\n",
    "Hello World\n",
    "```"
   ]
  },
  {
   "cell_type": "markdown",
   "id": "c62ad7ff",
   "metadata": {},
   "source": [
    "## Using interactive Python in Jupyter-style notebooks\n",
    "\n",
    "A convenient and powerful way to use interactive-mode Python is via a Jupyter Notebook, or similar browser-based interface.\n",
    "\n",
    "This particularly lends itself to data analysis since the notebook records a history of commands and shows output and graphs immediately in the browser.\n",
    "\n",
    "There are several ways you can run a Jupyter(-style) notebook - locally installed on your computer or hosted as a service on the web. Today we will use a Jupyter notebook service provided by Google: https://colab.research.google.com (Colaboratory).\n",
    "\n",
    "### Jupyter-style notebooks: a quick tour\n",
    "\n",
    "Go to https://colab.research.google.com and login with your Google account.\n",
    "\n",
    "Select ***NEW NOTEBOOK → NEW PYTHON 3 NOTEBOOK*** - a new notebook will be created.\n",
    "\n",
    "---\n",
    "\n",
    "Type some Python code in the top cell, eg:\n",
    "\n",
    "```python\n",
    "print(\"Hello Jupyter !\")\n",
    "```\n",
    "\n",
    "***Shift-Enter*** to run the contents of the cell\n",
    "\n",
    "---\n",
    "\n",
    "You can add new cells.\n",
    "\n",
    "***Insert → Insert Code Cell***\n",
    "\n",
    "---\n",
    "\n",
    "NOTE: When the text on the left hand of the cell is: `In [*]` (with an asterisk rather than a number), the cell is still running. It's usually best to wait until one cell has finished running before running the next.\n",
    "\n",
    "Let's begin writing some code in our notebook."
   ]
  },
  {
   "cell_type": "code",
   "execution_count": 1,
   "id": "f9321872",
   "metadata": {
    "slideshow": {
     "slide_type": "-"
    }
   },
   "outputs": [
    {
     "name": "stdout",
     "output_type": "stream",
     "text": [
      "Hello Jupyter !\n"
     ]
    }
   ],
   "source": [
    "print(\"Hello Jupyter !\")"
   ]
  },
  {
   "cell_type": "markdown",
   "id": "bf2daa9d",
   "metadata": {
    "slideshow": {
     "slide_type": "slide"
    }
   },
   "source": [
    "In Jupyter/Collaboratory, just typing the name of a variable in the cell prints its representation:"
   ]
  },
  {
   "cell_type": "code",
   "execution_count": 2,
   "id": "e4b67ff6",
   "metadata": {
    "slideshow": {
     "slide_type": "-"
    }
   },
   "outputs": [
    {
     "data": {
      "text/plain": [
       "'Hello again !'"
      ]
     },
     "execution_count": 2,
     "metadata": {},
     "output_type": "execute_result"
    }
   ],
   "source": [
    "message = \"Hello again !\"\n",
    "message"
   ]
  },
  {
   "cell_type": "code",
   "execution_count": 3,
   "id": "8eb7d4b9",
   "metadata": {
    "slideshow": {
     "slide_type": "slide"
    }
   },
   "outputs": [
    {
     "name": "stdout",
     "output_type": "stream",
     "text": [
      "No comment\n"
     ]
    }
   ],
   "source": [
    "# A 'hash' symbol denotes a comment\n",
    "# This is a comment. Anything after the 'hash' symbol on the line is ignored by the Python interpreter\n",
    "\n",
    "print(\"No comment\")  # comment"
   ]
  },
  {
   "cell_type": "markdown",
   "id": "5dc0e568",
   "metadata": {
    "slideshow": {
     "slide_type": "slide"
    }
   },
   "source": [
    "## Variables and data types\n",
    "### Integers, floats, strings"
   ]
  },
  {
   "cell_type": "code",
   "execution_count": 4,
   "id": "27ab6216",
   "metadata": {
    "slideshow": {
     "slide_type": "-"
    }
   },
   "outputs": [],
   "source": [
    "a = 5"
   ]
  },
  {
   "cell_type": "code",
   "execution_count": 5,
   "id": "84f52338",
   "metadata": {},
   "outputs": [
    {
     "data": {
      "text/plain": [
       "5"
      ]
     },
     "execution_count": 5,
     "metadata": {},
     "output_type": "execute_result"
    }
   ],
   "source": [
    "a"
   ]
  },
  {
   "cell_type": "code",
   "execution_count": 6,
   "id": "019a596a",
   "metadata": {},
   "outputs": [
    {
     "data": {
      "text/plain": [
       "int"
      ]
     },
     "execution_count": 6,
     "metadata": {},
     "output_type": "execute_result"
    }
   ],
   "source": [
    "type(a)"
   ]
  },
  {
   "cell_type": "markdown",
   "id": "32799562",
   "metadata": {},
   "source": [
    "Adding a decimal point creates a `float`"
   ]
  },
  {
   "cell_type": "code",
   "execution_count": 7,
   "id": "92808770",
   "metadata": {},
   "outputs": [],
   "source": [
    "b = 5.0"
   ]
  },
  {
   "cell_type": "code",
   "execution_count": 8,
   "id": "139d02f1",
   "metadata": {},
   "outputs": [
    {
     "data": {
      "text/plain": [
       "5.0"
      ]
     },
     "execution_count": 8,
     "metadata": {},
     "output_type": "execute_result"
    }
   ],
   "source": [
    "b"
   ]
  },
  {
   "cell_type": "code",
   "execution_count": 9,
   "id": "6df077d3",
   "metadata": {},
   "outputs": [
    {
     "data": {
      "text/plain": [
       "float"
      ]
     },
     "execution_count": 9,
     "metadata": {},
     "output_type": "execute_result"
    }
   ],
   "source": [
    "type(b)"
   ]
  },
  {
   "cell_type": "markdown",
   "id": "93c61142",
   "metadata": {
    "slideshow": {
     "slide_type": "slide"
    }
   },
   "source": [
    "`int` and `float` are collectively called 'numeric' types\n",
    "\n",
    "(There are also other numeric types like `hex` for hexidemical and `complex` for complex numbers)"
   ]
  },
  {
   "cell_type": "markdown",
   "id": "c45bf48b",
   "metadata": {
    "tags": [
     "challenge"
    ]
   },
   "source": [
    "## Challenge - Types\n",
    "\n",
    "What is the **type** of the variable `letters` defined below ?\n",
    "\n",
    "`letters = \"ABACBS\"`\n",
    "\n",
    "* A) `int`\n",
    "* B) `str`\n",
    "* C) `float`\n",
    "* D) `text`\n",
    "\n",
    "Write some code the outputs the type - paste your answer into the Etherpad."
   ]
  },
  {
   "cell_type": "markdown",
   "id": "4dd6b48b",
   "metadata": {
    "tags": [
     "solution"
    ]
   },
   "source": [
    "## Solution\n",
    "\n",
    "Option B - `str`."
   ]
  },
  {
   "cell_type": "code",
   "execution_count": 10,
   "id": "3bf2752c",
   "metadata": {
    "tags": [
     "solution"
    ]
   },
   "outputs": [
    {
     "data": {
      "text/plain": [
       "str"
      ]
     },
     "execution_count": 10,
     "metadata": {},
     "output_type": "execute_result"
    }
   ],
   "source": [
    "letters = \"ABACBS\"\n",
    "type(letters)"
   ]
  },
  {
   "cell_type": "markdown",
   "id": "07863427",
   "metadata": {
    "slideshow": {
     "slide_type": "slide"
    }
   },
   "source": [
    "### Strings"
   ]
  },
  {
   "cell_type": "code",
   "execution_count": 11,
   "id": "bc5adc49",
   "metadata": {},
   "outputs": [],
   "source": [
    "some_words = \"Python3 strings are Unicode (UTF-8) ❤❤❤ 😸 蛇\""
   ]
  },
  {
   "cell_type": "code",
   "execution_count": 12,
   "id": "1e3e1335",
   "metadata": {},
   "outputs": [
    {
     "data": {
      "text/plain": [
       "'Python3 strings are Unicode (UTF-8) ❤❤❤ 😸 蛇'"
      ]
     },
     "execution_count": 12,
     "metadata": {},
     "output_type": "execute_result"
    }
   ],
   "source": [
    "some_words"
   ]
  },
  {
   "cell_type": "code",
   "execution_count": 13,
   "id": "2f5883fb",
   "metadata": {},
   "outputs": [
    {
     "data": {
      "text/plain": [
       "str"
      ]
     },
     "execution_count": 13,
     "metadata": {},
     "output_type": "execute_result"
    }
   ],
   "source": [
    "type(some_words)"
   ]
  },
  {
   "cell_type": "markdown",
   "id": "3c88d691",
   "metadata": {},
   "source": [
    "The variable `some_words` is of type `str`, short for \"string\". Strings hold\n",
    "sequences of characters, which can be letters, numbers, punctuation\n",
    "or more exotic forms of text (even emoji!)."
   ]
  },
  {
   "cell_type": "markdown",
   "id": "d92bb016",
   "metadata": {
    "slideshow": {
     "slide_type": "slide"
    }
   },
   "source": [
    "## Operators\n",
    "\n",
    "We can perform mathematical calculations in Python using the basic operators:\n",
    "\n",
    "`+`  `-`  `*`  `/`  `%`  `**`"
   ]
  },
  {
   "cell_type": "code",
   "execution_count": 14,
   "id": "ef0f3fa3",
   "metadata": {},
   "outputs": [
    {
     "data": {
      "text/plain": [
       "4"
      ]
     },
     "execution_count": 14,
     "metadata": {},
     "output_type": "execute_result"
    }
   ],
   "source": [
    "2 + 2  # Addition"
   ]
  },
  {
   "cell_type": "code",
   "execution_count": 15,
   "id": "bd8f5dce",
   "metadata": {},
   "outputs": [
    {
     "data": {
      "text/plain": [
       "42"
      ]
     },
     "execution_count": 15,
     "metadata": {},
     "output_type": "execute_result"
    }
   ],
   "source": [
    "6 * 7  # Multiplication"
   ]
  },
  {
   "cell_type": "code",
   "execution_count": 16,
   "id": "e66b6ab4",
   "metadata": {},
   "outputs": [
    {
     "data": {
      "text/plain": [
       "65536"
      ]
     },
     "execution_count": 16,
     "metadata": {},
     "output_type": "execute_result"
    }
   ],
   "source": [
    "2 ** 16  # Power"
   ]
  },
  {
   "cell_type": "code",
   "execution_count": 17,
   "id": "0eacc45f",
   "metadata": {},
   "outputs": [
    {
     "data": {
      "text/plain": [
       "3"
      ]
     },
     "execution_count": 17,
     "metadata": {},
     "output_type": "execute_result"
    }
   ],
   "source": [
    "13 % 5  # Modulo"
   ]
  },
  {
   "cell_type": "code",
   "execution_count": 18,
   "id": "5e9c85da",
   "metadata": {
    "slideshow": {
     "slide_type": "slide"
    }
   },
   "outputs": [
    {
     "data": {
      "text/plain": [
       "6"
      ]
     },
     "execution_count": 18,
     "metadata": {},
     "output_type": "execute_result"
    }
   ],
   "source": [
    "# int + int = int\n",
    "a = 5\n",
    "a + 1"
   ]
  },
  {
   "cell_type": "code",
   "execution_count": 19,
   "id": "4332d6c3",
   "metadata": {},
   "outputs": [
    {
     "data": {
      "text/plain": [
       "6.0"
      ]
     },
     "execution_count": 19,
     "metadata": {},
     "output_type": "execute_result"
    }
   ],
   "source": [
    "# float + int = float\n",
    "b = 5.0\n",
    "b + 1"
   ]
  },
  {
   "cell_type": "code",
   "execution_count": 20,
   "id": "4e261e31",
   "metadata": {},
   "outputs": [
    {
     "data": {
      "text/plain": [
       "10.0"
      ]
     },
     "execution_count": 20,
     "metadata": {},
     "output_type": "execute_result"
    }
   ],
   "source": [
    "a + b"
   ]
  },
  {
   "cell_type": "markdown",
   "id": "c2e8b9a3",
   "metadata": {
    "slideshow": {
     "slide_type": "slide"
    }
   },
   "source": [
    "```python\n",
    "some_words = \"I'm a string\"\n",
    "a = 6\n",
    "a + some_words\n",
    "```"
   ]
  },
  {
   "cell_type": "markdown",
   "id": "81f09c63",
   "metadata": {},
   "source": [
    "Outputs:\n",
    "\n",
    "```\n",
    "---------------------------------------------------------------------------\n",
    "TypeError                                 Traceback (most recent call last)\n",
    "<ipython-input-1-781eba7cf148> in <module>()\n",
    "      1 some_words = \"I'm a string\"\n",
    "      2 a = 6\n",
    "----> 3 a + some_words\n",
    "\n",
    "TypeError: unsupported operand type(s) for +: 'int' and 'str'\n",
    "```"
   ]
  },
  {
   "cell_type": "code",
   "execution_count": 21,
   "id": "14f2edc2",
   "metadata": {},
   "outputs": [
    {
     "data": {
      "text/plain": [
       "'5 Python3 strings are Unicode (UTF-8) ❤❤❤ 😸 蛇'"
      ]
     },
     "execution_count": 21,
     "metadata": {},
     "output_type": "execute_result"
    }
   ],
   "source": [
    "str(a) + \" \" + some_words"
   ]
  },
  {
   "cell_type": "code",
   "execution_count": 22,
   "id": "5ee3a092",
   "metadata": {},
   "outputs": [
    {
     "data": {
      "text/plain": [
       "6"
      ]
     },
     "execution_count": 22,
     "metadata": {},
     "output_type": "execute_result"
    }
   ],
   "source": [
    "# Shorthand: operators with assignment\n",
    "a += 1\n",
    "a\n",
    "\n",
    "# Equivalent to:\n",
    "# a = a + 1"
   ]
  },
  {
   "cell_type": "markdown",
   "id": "0e516bf5",
   "metadata": {},
   "source": [
    "### Boolean operations\n",
    "\n",
    "We can also use comparison and logic operators:\n",
    "`<, >, ==, !=, <=, >=` and statements of identity such as\n",
    "`and, or, not`. The data type returned by this is\n",
    "called a _boolean_."
   ]
  },
  {
   "cell_type": "code",
   "execution_count": 23,
   "id": "21e4334d",
   "metadata": {},
   "outputs": [
    {
     "data": {
      "text/plain": [
       "False"
      ]
     },
     "execution_count": 23,
     "metadata": {},
     "output_type": "execute_result"
    }
   ],
   "source": [
    "3 > 4"
   ]
  },
  {
   "cell_type": "code",
   "execution_count": 24,
   "id": "d86213aa",
   "metadata": {},
   "outputs": [
    {
     "data": {
      "text/plain": [
       "True"
      ]
     },
     "execution_count": 24,
     "metadata": {},
     "output_type": "execute_result"
    }
   ],
   "source": [
    "True and True"
   ]
  },
  {
   "cell_type": "code",
   "execution_count": 25,
   "id": "581698ee",
   "metadata": {},
   "outputs": [
    {
     "data": {
      "text/plain": [
       "True"
      ]
     },
     "execution_count": 25,
     "metadata": {},
     "output_type": "execute_result"
    }
   ],
   "source": [
    "True or False"
   ]
  },
  {
   "cell_type": "markdown",
   "id": "bd7b12a3",
   "metadata": {
    "slideshow": {
     "slide_type": "slide"
    }
   },
   "source": [
    "## Lists and sequence types"
   ]
  },
  {
   "cell_type": "markdown",
   "id": "9c4f2c32",
   "metadata": {
    "slideshow": {
     "slide_type": "slide"
    }
   },
   "source": [
    "### Lists"
   ]
  },
  {
   "cell_type": "code",
   "execution_count": 26,
   "id": "3ff37d2d",
   "metadata": {},
   "outputs": [
    {
     "data": {
      "text/plain": [
       "[2, 4, 6, 8, 10]"
      ]
     },
     "execution_count": 26,
     "metadata": {},
     "output_type": "execute_result"
    }
   ],
   "source": [
    "numbers = [2, 4, 6, 8, 10]\n",
    "numbers"
   ]
  },
  {
   "cell_type": "code",
   "execution_count": 27,
   "id": "e722e4ae",
   "metadata": {},
   "outputs": [
    {
     "data": {
      "text/plain": [
       "5"
      ]
     },
     "execution_count": 27,
     "metadata": {},
     "output_type": "execute_result"
    }
   ],
   "source": [
    "# `len` get the length of a list\n",
    "len(numbers)"
   ]
  },
  {
   "cell_type": "code",
   "execution_count": 28,
   "id": "4993368f",
   "metadata": {},
   "outputs": [
    {
     "data": {
      "text/plain": [
       "['asdf', 2, 3.142, [2, 4, 6, 8, 10], ['a', 'b', 'c']]"
      ]
     },
     "execution_count": 28,
     "metadata": {},
     "output_type": "execute_result"
    }
   ],
   "source": [
    "# Lists can contain multiple data types, including other lists\n",
    "mixed_list = [\"asdf\", 2, 3.142, numbers, ['a','b','c']]\n",
    "mixed_list"
   ]
  },
  {
   "cell_type": "markdown",
   "id": "a8b23bb1",
   "metadata": {},
   "source": [
    "You can retrieve items from a list by their *index*. In Python, the first item has an index of 0 (zero)."
   ]
  },
  {
   "cell_type": "code",
   "execution_count": 29,
   "id": "08a3fe73",
   "metadata": {},
   "outputs": [
    {
     "data": {
      "text/plain": [
       "2"
      ]
     },
     "execution_count": 29,
     "metadata": {},
     "output_type": "execute_result"
    }
   ],
   "source": [
    "numbers[0]"
   ]
  },
  {
   "cell_type": "code",
   "execution_count": 30,
   "id": "4d8f770f",
   "metadata": {},
   "outputs": [
    {
     "data": {
      "text/plain": [
       "8"
      ]
     },
     "execution_count": 30,
     "metadata": {},
     "output_type": "execute_result"
    }
   ],
   "source": [
    "numbers[3]"
   ]
  },
  {
   "cell_type": "markdown",
   "id": "f8b93d2d",
   "metadata": {},
   "source": [
    "You can also assign a new value to any position in the list."
   ]
  },
  {
   "cell_type": "code",
   "execution_count": 31,
   "id": "d8e71e50",
   "metadata": {},
   "outputs": [
    {
     "data": {
      "text/plain": [
       "[2, 4, 6, 800, 10]"
      ]
     },
     "execution_count": 31,
     "metadata": {},
     "output_type": "execute_result"
    }
   ],
   "source": [
    "numbers[3] = numbers[3] * 100\n",
    "numbers"
   ]
  },
  {
   "cell_type": "markdown",
   "id": "b681763d",
   "metadata": {},
   "source": [
    "You can append items to the end of the list."
   ]
  },
  {
   "cell_type": "code",
   "execution_count": 32,
   "id": "55034c7b",
   "metadata": {},
   "outputs": [
    {
     "data": {
      "text/plain": [
       "[2, 4, 6, 800, 10, 12]"
      ]
     },
     "execution_count": 32,
     "metadata": {},
     "output_type": "execute_result"
    }
   ],
   "source": [
    "numbers.append(12)\n",
    "numbers"
   ]
  },
  {
   "cell_type": "markdown",
   "id": "af84db9c",
   "metadata": {},
   "source": [
    "You can add multiple items to the end of a list with `extend`."
   ]
  },
  {
   "cell_type": "code",
   "execution_count": 33,
   "id": "b8bdd17d",
   "metadata": {},
   "outputs": [
    {
     "data": {
      "text/plain": [
       "[2, 4, 6, 800, 10, 12, 14, 16, 18]"
      ]
     },
     "execution_count": 33,
     "metadata": {},
     "output_type": "execute_result"
    }
   ],
   "source": [
    "numbers.extend([14, 16, 18])\n",
    "numbers"
   ]
  },
  {
   "cell_type": "markdown",
   "id": "ce413fc3",
   "metadata": {},
   "source": [
    "### Loops\n",
    "\n",
    "A for loop can be used to access the elements in a list or other Python data structure one at a time. We will learn about loops in other lesson."
   ]
  },
  {
   "cell_type": "code",
   "execution_count": 34,
   "id": "a397b0a6",
   "metadata": {},
   "outputs": [
    {
     "name": "stdout",
     "output_type": "stream",
     "text": [
      "2\n",
      "4\n",
      "6\n",
      "800\n",
      "10\n",
      "12\n",
      "14\n",
      "16\n",
      "18\n"
     ]
    }
   ],
   "source": [
    "for num in numbers:\n",
    "    print(num)"
   ]
  },
  {
   "cell_type": "markdown",
   "id": "4495a6a9",
   "metadata": {},
   "source": [
    "**Indentation** is very important in Python. Note that the second line in the\n",
    "example above is indented, indicating the code that is the body of the loop."
   ]
  },
  {
   "cell_type": "markdown",
   "id": "5e85cc82",
   "metadata": {},
   "source": [
    "To find out what methods are available for an object, we can use the built-in `help` command:"
   ]
  },
  {
   "cell_type": "code",
   "execution_count": 35,
   "id": "bc5d6a38",
   "metadata": {},
   "outputs": [
    {
     "name": "stdout",
     "output_type": "stream",
     "text": [
      "Help on list object:\n",
      "\n",
      "class list(object)\n",
      " |  list(iterable=(), /)\n",
      " |  \n",
      " |  Built-in mutable sequence.\n",
      " |  \n",
      " |  If no argument is given, the constructor creates a new empty list.\n",
      " |  The argument must be an iterable if specified.\n",
      " |  \n",
      " |  Methods defined here:\n",
      " |  \n",
      " |  __add__(self, value, /)\n",
      " |      Return self+value.\n",
      " |  \n",
      " |  __contains__(self, key, /)\n",
      " |      Return key in self.\n",
      " |  \n",
      " |  __delitem__(self, key, /)\n",
      " |      Delete self[key].\n",
      " |  \n",
      " |  __eq__(self, value, /)\n",
      " |      Return self==value.\n",
      " |  \n",
      " |  __ge__(self, value, /)\n",
      " |      Return self>=value.\n",
      " |  \n",
      " |  __getattribute__(self, name, /)\n",
      " |      Return getattr(self, name).\n",
      " |  \n",
      " |  __getitem__(...)\n",
      " |      x.__getitem__(y) <==> x[y]\n",
      " |  \n",
      " |  __gt__(self, value, /)\n",
      " |      Return self>value.\n",
      " |  \n",
      " |  __iadd__(self, value, /)\n",
      " |      Implement self+=value.\n",
      " |  \n",
      " |  __imul__(self, value, /)\n",
      " |      Implement self*=value.\n",
      " |  \n",
      " |  __init__(self, /, *args, **kwargs)\n",
      " |      Initialize self.  See help(type(self)) for accurate signature.\n",
      " |  \n",
      " |  __iter__(self, /)\n",
      " |      Implement iter(self).\n",
      " |  \n",
      " |  __le__(self, value, /)\n",
      " |      Return self<=value.\n",
      " |  \n",
      " |  __len__(self, /)\n",
      " |      Return len(self).\n",
      " |  \n",
      " |  __lt__(self, value, /)\n",
      " |      Return self<value.\n",
      " |  \n",
      " |  __mul__(self, value, /)\n",
      " |      Return self*value.\n",
      " |  \n",
      " |  __ne__(self, value, /)\n",
      " |      Return self!=value.\n",
      " |  \n",
      " |  __repr__(self, /)\n",
      " |      Return repr(self).\n",
      " |  \n",
      " |  __reversed__(self, /)\n",
      " |      Return a reverse iterator over the list.\n",
      " |  \n",
      " |  __rmul__(self, value, /)\n",
      " |      Return value*self.\n",
      " |  \n",
      " |  __setitem__(self, key, value, /)\n",
      " |      Set self[key] to value.\n",
      " |  \n",
      " |  __sizeof__(self, /)\n",
      " |      Return the size of the list in memory, in bytes.\n",
      " |  \n",
      " |  append(self, object, /)\n",
      " |      Append object to the end of the list.\n",
      " |  \n",
      " |  clear(self, /)\n",
      " |      Remove all items from list.\n",
      " |  \n",
      " |  copy(self, /)\n",
      " |      Return a shallow copy of the list.\n",
      " |  \n",
      " |  count(self, value, /)\n",
      " |      Return number of occurrences of value.\n",
      " |  \n",
      " |  extend(self, iterable, /)\n",
      " |      Extend list by appending elements from the iterable.\n",
      " |  \n",
      " |  index(self, value, start=0, stop=9223372036854775807, /)\n",
      " |      Return first index of value.\n",
      " |      \n",
      " |      Raises ValueError if the value is not present.\n",
      " |  \n",
      " |  insert(self, index, object, /)\n",
      " |      Insert object before index.\n",
      " |  \n",
      " |  pop(self, index=-1, /)\n",
      " |      Remove and return item at index (default last).\n",
      " |      \n",
      " |      Raises IndexError if list is empty or index is out of range.\n",
      " |  \n",
      " |  remove(self, value, /)\n",
      " |      Remove first occurrence of value.\n",
      " |      \n",
      " |      Raises ValueError if the value is not present.\n",
      " |  \n",
      " |  reverse(self, /)\n",
      " |      Reverse *IN PLACE*.\n",
      " |  \n",
      " |  sort(self, /, *, key=None, reverse=False)\n",
      " |      Sort the list in ascending order and return None.\n",
      " |      \n",
      " |      The sort is in-place (i.e. the list itself is modified) and stable (i.e. the\n",
      " |      order of two equal elements is maintained).\n",
      " |      \n",
      " |      If a key function is given, apply it once to each list item and sort them,\n",
      " |      ascending or descending, according to their function values.\n",
      " |      \n",
      " |      The reverse flag can be set to sort in descending order.\n",
      " |  \n",
      " |  ----------------------------------------------------------------------\n",
      " |  Static methods defined here:\n",
      " |  \n",
      " |  __new__(*args, **kwargs) from builtins.type\n",
      " |      Create and return a new object.  See help(type) for accurate signature.\n",
      " |  \n",
      " |  ----------------------------------------------------------------------\n",
      " |  Data and other attributes defined here:\n",
      " |  \n",
      " |  __hash__ = None\n",
      "\n"
     ]
    }
   ],
   "source": [
    "help(numbers)"
   ]
  },
  {
   "cell_type": "markdown",
   "id": "0814f492",
   "metadata": {
    "slideshow": {
     "slide_type": "slide"
    }
   },
   "source": [
    "### Tuples\n",
    "\n",
    "A tuple is similar to a list in that it's an ordered sequence of elements.\n",
    "However, tuples can not be changed once created (they are \"immutable\"). Tuples\n",
    "are created by placing comma-separated values inside parentheses `()`."
   ]
  },
  {
   "cell_type": "code",
   "execution_count": 36,
   "id": "fef51ae6",
   "metadata": {},
   "outputs": [
    {
     "data": {
      "text/plain": [
       "('bar', 100, 200, 'foo')"
      ]
     },
     "execution_count": 36,
     "metadata": {},
     "output_type": "execute_result"
    }
   ],
   "source": [
    "tuples_are_immutable = (\"bar\", 100, 200, \"foo\")\n",
    "tuples_are_immutable"
   ]
  },
  {
   "cell_type": "code",
   "execution_count": 37,
   "id": "c51885b3",
   "metadata": {},
   "outputs": [
    {
     "data": {
      "text/plain": [
       "100"
      ]
     },
     "execution_count": 37,
     "metadata": {},
     "output_type": "execute_result"
    }
   ],
   "source": [
    "tuples_are_immutable[1]"
   ]
  },
  {
   "cell_type": "markdown",
   "id": "f33b3a69",
   "metadata": {},
   "source": [
    "```python\n",
    "tuples_are_immutable[1] = 666\n",
    "```"
   ]
  },
  {
   "cell_type": "markdown",
   "id": "3aee39ee",
   "metadata": {},
   "source": [
    "Outputs:\n",
    "\n",
    "```\n",
    "---------------------------------------------------------------------------\n",
    "TypeError                                 Traceback (most recent call last)\n",
    "<ipython-input-39-c91965b0815a> in <module>()\n",
    "----> 1 tuples_are_immutable[1] = 666\n",
    "\n",
    "TypeError: 'tuple' object does not support item assignment\n",
    "```"
   ]
  },
  {
   "cell_type": "markdown",
   "id": "5144cc54",
   "metadata": {
    "slideshow": {
     "slide_type": "slide"
    }
   },
   "source": [
    "### Dictionaries\n",
    "\n",
    "Dictionaries are a container that store key-value pairs. They are unordered. \n",
    "\n",
    "Other programming languages might call this a 'hash', 'hashtable' or 'hashmap'."
   ]
  },
  {
   "cell_type": "code",
   "execution_count": 38,
   "id": "081e7335",
   "metadata": {},
   "outputs": [
    {
     "data": {
      "text/plain": [
       "{'Apple': 1, 'Orange': 2, 'Pear': 4}"
      ]
     },
     "execution_count": 38,
     "metadata": {},
     "output_type": "execute_result"
    }
   ],
   "source": [
    "pairs = {'Apple': 1, 'Orange': 2, 'Pear': 4}\n",
    "pairs"
   ]
  },
  {
   "cell_type": "code",
   "execution_count": 39,
   "id": "d940d16d",
   "metadata": {},
   "outputs": [
    {
     "data": {
      "text/plain": [
       "2"
      ]
     },
     "execution_count": 39,
     "metadata": {},
     "output_type": "execute_result"
    }
   ],
   "source": [
    "pairs['Orange']"
   ]
  },
  {
   "cell_type": "code",
   "execution_count": 40,
   "id": "6a1acf8e",
   "metadata": {},
   "outputs": [
    {
     "data": {
      "text/plain": [
       "{'Apple': 1, 'Orange': 16, 'Pear': 4}"
      ]
     },
     "execution_count": 40,
     "metadata": {},
     "output_type": "execute_result"
    }
   ],
   "source": [
    "pairs['Orange'] = 16\n",
    "pairs"
   ]
  },
  {
   "cell_type": "markdown",
   "id": "1c3a1ea9",
   "metadata": {},
   "source": [
    "The `items` method returns a sequence of the key-value pairs as tuples.\n",
    "\n",
    "`values` returns a sequence of just the values.\n",
    "\n",
    "`keys` returns a sequence of just the keys.\n",
    "\n",
    "---\n",
    "In Python 3, the `.items()`, `.values()` and `.keys()` methods return a ['dictionary view' object](https://docs.python.org/3/library/stdtypes.html#dictionary-view-objects) that behaves like a list or tuple in for loops but doesn't support indexing. 'Dictionary views' stay in sync even when the dictionary changes.\n",
    "\n",
    "You can turn them into a normal list or tuple with the `list()` or `tuple()` functions."
   ]
  },
  {
   "cell_type": "code",
   "execution_count": 41,
   "id": "290cc827",
   "metadata": {
    "slideshow": {
     "slide_type": "subslide"
    }
   },
   "outputs": [
    {
     "data": {
      "text/plain": [
       "dict_items([('Apple', 1), ('Orange', 16), ('Pear', 4)])"
      ]
     },
     "execution_count": 41,
     "metadata": {},
     "output_type": "execute_result"
    }
   ],
   "source": [
    "pairs.items()\n",
    "# list(pairs.items())"
   ]
  },
  {
   "cell_type": "code",
   "execution_count": 42,
   "id": "b7614442",
   "metadata": {
    "slideshow": {
     "slide_type": "subslide"
    }
   },
   "outputs": [
    {
     "data": {
      "text/plain": [
       "dict_values([1, 16, 4])"
      ]
     },
     "execution_count": 42,
     "metadata": {},
     "output_type": "execute_result"
    }
   ],
   "source": [
    "pairs.values()\n",
    "# list(pairs.values())"
   ]
  },
  {
   "cell_type": "code",
   "execution_count": 43,
   "id": "6e461f58",
   "metadata": {
    "slideshow": {
     "slide_type": "subslide"
    }
   },
   "outputs": [
    {
     "data": {
      "text/plain": [
       "dict_keys(['Apple', 'Orange', 'Pear'])"
      ]
     },
     "execution_count": 43,
     "metadata": {},
     "output_type": "execute_result"
    }
   ],
   "source": [
    "pairs.keys()\n",
    "# list(pairs.keys())"
   ]
  },
  {
   "cell_type": "code",
   "execution_count": 44,
   "id": "6dbeb1a6",
   "metadata": {
    "slideshow": {
     "slide_type": "subslide"
    }
   },
   "outputs": [
    {
     "data": {
      "text/plain": [
       "3"
      ]
     },
     "execution_count": 44,
     "metadata": {},
     "output_type": "execute_result"
    }
   ],
   "source": [
    "len(pairs)"
   ]
  },
  {
   "cell_type": "code",
   "execution_count": 45,
   "id": "9c29a7a4",
   "metadata": {
    "slideshow": {
     "slide_type": "subslide"
    }
   },
   "outputs": [
    {
     "data": {
      "text/plain": [
       "{'first': {1: 2, 2: 4, 4: 8, 8: 16}, 'second': {'a': 2.2, 'b': 4.4}}"
      ]
     },
     "execution_count": 45,
     "metadata": {},
     "output_type": "execute_result"
    }
   ],
   "source": [
    "dict_of_dicts = {'first': {1:2, 2: 4, 4: 8, 8: 16}, 'second': {'a': 2.2, 'b': 4.4}}\n",
    "dict_of_dicts"
   ]
  },
  {
   "cell_type": "markdown",
   "id": "e63dbeb5",
   "metadata": {
    "tags": [
     "challenge"
    ]
   },
   "source": [
    "## Challenge - Dictionaries\n",
    "\n",
    "Given the dictionary:\n",
    "\n",
    "```python\n",
    "jam_ratings = {'Plum': 6, 'Apricot': 2, 'Strawberry': 8}\n",
    "```\n",
    "\n",
    "How would you change the value associated with the key `Apricot` to `9`.\n",
    "\n",
    "A) `jam_ratings = {'apricot': 9}`\n",
    "\n",
    "B) `jam_ratings[9] = 'Apricot'`\n",
    "\n",
    "C) `jam_ratings['Apricot'] = 9`\n",
    "\n",
    "D) `jam_ratings[2] = 'Apricot'`"
   ]
  },
  {
   "cell_type": "markdown",
   "id": "95ee6795",
   "metadata": {
    "tags": [
     "solution"
    ]
   },
   "source": [
    "## Solution - Dictionaries\n",
    "\n",
    "The correct answer is **C**.\n",
    "\n",
    "**A** assigns the name `jam_ratings` to a new dictionary with only the key `apricot` - not only are the other jam ratings now missing, but strings used as dictionary keys are *case sensitive* - `apricot` is not the same key as `Apricot`.\n",
    "\n",
    "**B** mixes up the value and the key. Assigning to a dictionary uses the form: `dictionary[key] = value`.\n",
    "\n",
    "**C** is correct. Bonus - another way to do this would be `jam_ratings.update({'Apricot': 9})` or even `jam_ratings.update(Apricot=9)`.\n",
    "\n",
    "**D** mixes up the value and the key (and doesn't actually include the new value to be assigned, `9`, anywhere). `2` is the original *value*, `Apricot` is the key. Assigning to a dictionary uses the form: `dictionary[key] = value`."
   ]
  }
 ],
 "metadata": {
  "jupytext": {
   "formats": "ipynb,md:myst",
   "text_representation": {
    "extension": ".md",
    "format_name": "myst",
    "format_version": 0.13,
    "jupytext_version": "1.11.5"
   }
  },
  "kernelspec": {
   "display_name": "Python 3",
   "language": "python",
   "name": "python3"
  },
  "language_info": {
   "codemirror_mode": {
    "name": "ipython",
    "version": 3
   },
   "file_extension": ".py",
   "mimetype": "text/x-python",
   "name": "python",
   "nbconvert_exporter": "python",
   "pygments_lexer": "ipython3",
   "version": "3.8.5"
  },
  "source_map": [
   15,
   19,
   32,
   52,
   62,
   100,
   108,
   112,
   121,
   132,
   137,
   145,
   149,
   151,
   155,
   159,
   163,
   167,
   173,
   188,
   194,
   201,
   205,
   209,
   213,
   215,
   221,
   229,
   233,
   237,
   241,
   245,
   255,
   261,
   265,
   274,
   289,
   293,
   300,
   309,
   313,
   317,
   321,
   325,
   329,
   334,
   339,
   343,
   347,
   351,
   353,
   357,
   360,
   364,
   367,
   371,
   374,
   380,
   383,
   388,
   392,
   396,
   404,
   409,
   411,
   417,
   430,
   438,
   443,
   447,
   450,
   463,
   472,
   481,
   490,
   498,
   507,
   527
  ]
 },
 "nbformat": 4,
 "nbformat_minor": 5
}