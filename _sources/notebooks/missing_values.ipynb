{
 "cells": [
  {
   "cell_type": "markdown",
   "id": "18181ac3",
   "metadata": {
    "tags": [
     "solution"
    ]
   },
   "source": [
    "## Handling Missing data\n",
    "\n",
    "*Estimated teaching time:* 20 min\n",
    "\n",
    "*Estimated challenge time:* 0 min\n",
    "\n",
    "\n",
    "## Module information\n",
    "\n",
    "*Key questions:*\n",
    "\n",
    "  - \"What is missing data?\"\n",
    "  - \"How  can I analyse my data with missing values using Pandas?\"\n",
    "    \n",
    "*Learning objectives:*\n",
    "\n",
    "  - Describe what missing values mean.\n",
    "  - How to access missing values in dataset.\n",
    "  - What NaN values are, how they might be represented, and what this means for your work\n",
    "  - How to replace NaN values, if desired\n",
    "  - How to use `to_csv` to write manipulated data to a file.\n",
    "---"
   ]
  },
  {
   "cell_type": "markdown",
   "id": "7ad8bef1",
   "metadata": {},
   "source": [
    "# Handling Missing Data\n",
    "\n",
    "Most of the times real-world data is rarely clean and homogeneous. In many cases, dataset of interest will have some amount of data missing. To make matters even more complicated, different data sources may indicate missing data in different ways.\n",
    "\n",
    "In this module, we will discuss some general considerations for missing data, discuss how Pandas chooses to represent it, and demonstrate some built-in Pandas tools for handling missing data in Python. We refer the missing data as null, NaN, or NA values in general."
   ]
  },
  {
   "cell_type": "markdown",
   "id": "c0602c16",
   "metadata": {},
   "source": [
    "Before we start, lets make sure the Pandas and matplotlib packages are **installed**."
   ]
  },
  {
   "cell_type": "code",
   "execution_count": 1,
   "id": "47233f5f",
   "metadata": {},
   "outputs": [
    {
     "name": "stdout",
     "output_type": "stream",
     "text": [
      "Requirement already satisfied: pandas in /home/danph/Repos/win_ssd/myprojects/python-workshop-base/.venv/lib/python3.8/site-packages (1.4.0)\r\n",
      "Requirement already satisfied: matplotlib in /home/danph/Repos/win_ssd/myprojects/python-workshop-base/.venv/lib/python3.8/site-packages (3.5.1)\r\n",
      "Requirement already satisfied: pytz>=2020.1 in /home/danph/Repos/win_ssd/myprojects/python-workshop-base/.venv/lib/python3.8/site-packages (from pandas) (2021.3)\r\n",
      "Requirement already satisfied: numpy>=1.18.5 in /home/danph/Repos/win_ssd/myprojects/python-workshop-base/.venv/lib/python3.8/site-packages (from pandas) (1.22.2)\r\n",
      "Requirement already satisfied: python-dateutil>=2.8.1 in /home/danph/Repos/win_ssd/myprojects/python-workshop-base/.venv/lib/python3.8/site-packages (from pandas) (2.8.2)\r\n",
      "Requirement already satisfied: packaging>=20.0 in /home/danph/Repos/win_ssd/myprojects/python-workshop-base/.venv/lib/python3.8/site-packages (from matplotlib) (21.3)\r\n",
      "Requirement already satisfied: kiwisolver>=1.0.1 in /home/danph/Repos/win_ssd/myprojects/python-workshop-base/.venv/lib/python3.8/site-packages (from matplotlib) (1.3.2)\r\n"
     ]
    },
    {
     "name": "stdout",
     "output_type": "stream",
     "text": [
      "Requirement already satisfied: cycler>=0.10 in /home/danph/Repos/win_ssd/myprojects/python-workshop-base/.venv/lib/python3.8/site-packages (from matplotlib) (0.11.0)\r\n",
      "Requirement already satisfied: pillow>=6.2.0 in /home/danph/Repos/win_ssd/myprojects/python-workshop-base/.venv/lib/python3.8/site-packages (from matplotlib) (9.0.1)\r\n",
      "Requirement already satisfied: pyparsing>=2.2.1 in /home/danph/Repos/win_ssd/myprojects/python-workshop-base/.venv/lib/python3.8/site-packages (from matplotlib) (3.0.7)\r\n",
      "Requirement already satisfied: fonttools>=4.22.0 in /home/danph/Repos/win_ssd/myprojects/python-workshop-base/.venv/lib/python3.8/site-packages (from matplotlib) (4.29.1)\r\n",
      "Requirement already satisfied: six>=1.5 in /home/danph/Repos/win_ssd/myprojects/python-workshop-base/.venv/lib/python3.8/site-packages (from python-dateutil>=2.8.1->pandas) (1.16.0)\r\n"
     ]
    }
   ],
   "source": [
    "!pip install pandas matplotlib"
   ]
  },
  {
   "cell_type": "code",
   "execution_count": 2,
   "id": "388cf207",
   "metadata": {
    "jupyter": {
     "outputs_hidden": true
    }
   },
   "outputs": [],
   "source": [
    "# Now import pandas into your notebook as pd\n",
    "import pandas as pd"
   ]
  },
  {
   "cell_type": "markdown",
   "id": "aca430b4",
   "metadata": {},
   "source": [
    "Now again import `surveys.csv` dataset into our notebook as we did in previous lesson."
   ]
  },
  {
   "cell_type": "code",
   "execution_count": 3,
   "id": "08c4dc32",
   "metadata": {},
   "outputs": [],
   "source": [
    "surveys_df = pd.read_csv(\"surveys.csv\")"
   ]
  },
  {
   "cell_type": "markdown",
   "id": "b83f6b40",
   "metadata": {},
   "source": [
    "### Using masks to identify a specific condition\n",
    "\n",
    "A **mask** can be useful to locate where a particular subset of values exist or\n",
    "don't exist - for example,  NaN, or \"Not a Number\" values. To understand masks,\n",
    "we also need to understand `BOOLEAN` objects in Python.\n",
    "\n",
    "Boolean values include `True` or `False`. For example,"
   ]
  },
  {
   "cell_type": "code",
   "execution_count": 4,
   "id": "339764ad",
   "metadata": {
    "jupyter": {
     "outputs_hidden": true
    }
   },
   "outputs": [],
   "source": [
    "# set value of x to be 5\n",
    "x = 5"
   ]
  },
  {
   "cell_type": "code",
   "execution_count": 5,
   "id": "f817ef9e",
   "metadata": {},
   "outputs": [
    {
     "data": {
      "text/plain": [
       "False"
      ]
     },
     "execution_count": 5,
     "metadata": {},
     "output_type": "execute_result"
    }
   ],
   "source": [
    "x > 5"
   ]
  },
  {
   "cell_type": "code",
   "execution_count": 6,
   "id": "038031f8",
   "metadata": {},
   "outputs": [
    {
     "data": {
      "text/plain": [
       "True"
      ]
     },
     "execution_count": 6,
     "metadata": {},
     "output_type": "execute_result"
    }
   ],
   "source": [
    "x == 5"
   ]
  },
  {
   "cell_type": "markdown",
   "id": "b26ad450",
   "metadata": {},
   "source": [
    "### Finding Missing Values\n",
    "\n",
    "Let's identify all locations in the survey data that have\n",
    "null (missing or NaN) data values. We can use the `isnull` method to do this.\n",
    "The `isnull` method will compare each cell with a null value. If an element\n",
    "has a null value, it will be assigned a value of  `True` in the output object."
   ]
  },
  {
   "cell_type": "code",
   "execution_count": 7,
   "id": "e873c838",
   "metadata": {},
   "outputs": [
    {
     "data": {
      "text/html": [
       "<div>\n",
       "<style scoped>\n",
       "    .dataframe tbody tr th:only-of-type {\n",
       "        vertical-align: middle;\n",
       "    }\n",
       "\n",
       "    .dataframe tbody tr th {\n",
       "        vertical-align: top;\n",
       "    }\n",
       "\n",
       "    .dataframe thead th {\n",
       "        text-align: right;\n",
       "    }\n",
       "</style>\n",
       "<table border=\"1\" class=\"dataframe\">\n",
       "  <thead>\n",
       "    <tr style=\"text-align: right;\">\n",
       "      <th></th>\n",
       "      <th>record_id</th>\n",
       "      <th>month</th>\n",
       "      <th>day</th>\n",
       "      <th>year</th>\n",
       "      <th>site_id</th>\n",
       "      <th>species_id</th>\n",
       "      <th>sex</th>\n",
       "      <th>hindfoot_length</th>\n",
       "      <th>weight</th>\n",
       "    </tr>\n",
       "  </thead>\n",
       "  <tbody>\n",
       "    <tr>\n",
       "      <th>0</th>\n",
       "      <td>False</td>\n",
       "      <td>False</td>\n",
       "      <td>False</td>\n",
       "      <td>False</td>\n",
       "      <td>False</td>\n",
       "      <td>False</td>\n",
       "      <td>False</td>\n",
       "      <td>False</td>\n",
       "      <td>True</td>\n",
       "    </tr>\n",
       "    <tr>\n",
       "      <th>1</th>\n",
       "      <td>False</td>\n",
       "      <td>False</td>\n",
       "      <td>False</td>\n",
       "      <td>False</td>\n",
       "      <td>False</td>\n",
       "      <td>False</td>\n",
       "      <td>False</td>\n",
       "      <td>False</td>\n",
       "      <td>True</td>\n",
       "    </tr>\n",
       "    <tr>\n",
       "      <th>2</th>\n",
       "      <td>False</td>\n",
       "      <td>False</td>\n",
       "      <td>False</td>\n",
       "      <td>False</td>\n",
       "      <td>False</td>\n",
       "      <td>False</td>\n",
       "      <td>False</td>\n",
       "      <td>False</td>\n",
       "      <td>True</td>\n",
       "    </tr>\n",
       "    <tr>\n",
       "      <th>3</th>\n",
       "      <td>False</td>\n",
       "      <td>False</td>\n",
       "      <td>False</td>\n",
       "      <td>False</td>\n",
       "      <td>False</td>\n",
       "      <td>False</td>\n",
       "      <td>False</td>\n",
       "      <td>False</td>\n",
       "      <td>True</td>\n",
       "    </tr>\n",
       "    <tr>\n",
       "      <th>4</th>\n",
       "      <td>False</td>\n",
       "      <td>False</td>\n",
       "      <td>False</td>\n",
       "      <td>False</td>\n",
       "      <td>False</td>\n",
       "      <td>False</td>\n",
       "      <td>False</td>\n",
       "      <td>False</td>\n",
       "      <td>True</td>\n",
       "    </tr>\n",
       "  </tbody>\n",
       "</table>\n",
       "</div>"
      ],
      "text/plain": [
       "   record_id  month    day   year  site_id  species_id    sex  \\\n",
       "0      False  False  False  False    False       False  False   \n",
       "1      False  False  False  False    False       False  False   \n",
       "2      False  False  False  False    False       False  False   \n",
       "3      False  False  False  False    False       False  False   \n",
       "4      False  False  False  False    False       False  False   \n",
       "\n",
       "   hindfoot_length  weight  \n",
       "0            False    True  \n",
       "1            False    True  \n",
       "2            False    True  \n",
       "3            False    True  \n",
       "4            False    True  "
      ]
     },
     "execution_count": 7,
     "metadata": {},
     "output_type": "execute_result"
    }
   ],
   "source": [
    "pd.isnull(surveys_df).head()"
   ]
  },
  {
   "cell_type": "markdown",
   "id": "901710e3",
   "metadata": {},
   "source": [
    "### How to select rows with missing data\n",
    "\n",
    "To select the rows where there are null values, we can use\n",
    "the mask as an index to subset our data as follows:"
   ]
  },
  {
   "cell_type": "code",
   "execution_count": 8,
   "id": "f8029416",
   "metadata": {},
   "outputs": [
    {
     "data": {
      "text/html": [
       "<div>\n",
       "<style scoped>\n",
       "    .dataframe tbody tr th:only-of-type {\n",
       "        vertical-align: middle;\n",
       "    }\n",
       "\n",
       "    .dataframe tbody tr th {\n",
       "        vertical-align: top;\n",
       "    }\n",
       "\n",
       "    .dataframe thead th {\n",
       "        text-align: right;\n",
       "    }\n",
       "</style>\n",
       "<table border=\"1\" class=\"dataframe\">\n",
       "  <thead>\n",
       "    <tr style=\"text-align: right;\">\n",
       "      <th></th>\n",
       "      <th>record_id</th>\n",
       "      <th>month</th>\n",
       "      <th>day</th>\n",
       "      <th>year</th>\n",
       "      <th>site_id</th>\n",
       "      <th>species_id</th>\n",
       "      <th>sex</th>\n",
       "      <th>hindfoot_length</th>\n",
       "      <th>weight</th>\n",
       "    </tr>\n",
       "  </thead>\n",
       "  <tbody>\n",
       "    <tr>\n",
       "      <th>0</th>\n",
       "      <td>1</td>\n",
       "      <td>7</td>\n",
       "      <td>16</td>\n",
       "      <td>1977</td>\n",
       "      <td>2</td>\n",
       "      <td>NL</td>\n",
       "      <td>M</td>\n",
       "      <td>32.0</td>\n",
       "      <td>NaN</td>\n",
       "    </tr>\n",
       "    <tr>\n",
       "      <th>1</th>\n",
       "      <td>2</td>\n",
       "      <td>7</td>\n",
       "      <td>16</td>\n",
       "      <td>1977</td>\n",
       "      <td>3</td>\n",
       "      <td>NL</td>\n",
       "      <td>M</td>\n",
       "      <td>33.0</td>\n",
       "      <td>NaN</td>\n",
       "    </tr>\n",
       "    <tr>\n",
       "      <th>2</th>\n",
       "      <td>3</td>\n",
       "      <td>7</td>\n",
       "      <td>16</td>\n",
       "      <td>1977</td>\n",
       "      <td>2</td>\n",
       "      <td>DM</td>\n",
       "      <td>F</td>\n",
       "      <td>37.0</td>\n",
       "      <td>NaN</td>\n",
       "    </tr>\n",
       "    <tr>\n",
       "      <th>3</th>\n",
       "      <td>4</td>\n",
       "      <td>7</td>\n",
       "      <td>16</td>\n",
       "      <td>1977</td>\n",
       "      <td>7</td>\n",
       "      <td>DM</td>\n",
       "      <td>M</td>\n",
       "      <td>36.0</td>\n",
       "      <td>NaN</td>\n",
       "    </tr>\n",
       "    <tr>\n",
       "      <th>4</th>\n",
       "      <td>5</td>\n",
       "      <td>7</td>\n",
       "      <td>16</td>\n",
       "      <td>1977</td>\n",
       "      <td>3</td>\n",
       "      <td>DM</td>\n",
       "      <td>M</td>\n",
       "      <td>35.0</td>\n",
       "      <td>NaN</td>\n",
       "    </tr>\n",
       "    <tr>\n",
       "      <th>...</th>\n",
       "      <td>...</td>\n",
       "      <td>...</td>\n",
       "      <td>...</td>\n",
       "      <td>...</td>\n",
       "      <td>...</td>\n",
       "      <td>...</td>\n",
       "      <td>...</td>\n",
       "      <td>...</td>\n",
       "      <td>...</td>\n",
       "    </tr>\n",
       "    <tr>\n",
       "      <th>35530</th>\n",
       "      <td>35531</td>\n",
       "      <td>12</td>\n",
       "      <td>31</td>\n",
       "      <td>2002</td>\n",
       "      <td>13</td>\n",
       "      <td>PB</td>\n",
       "      <td>F</td>\n",
       "      <td>27.0</td>\n",
       "      <td>NaN</td>\n",
       "    </tr>\n",
       "    <tr>\n",
       "      <th>35543</th>\n",
       "      <td>35544</td>\n",
       "      <td>12</td>\n",
       "      <td>31</td>\n",
       "      <td>2002</td>\n",
       "      <td>15</td>\n",
       "      <td>US</td>\n",
       "      <td>NaN</td>\n",
       "      <td>NaN</td>\n",
       "      <td>NaN</td>\n",
       "    </tr>\n",
       "    <tr>\n",
       "      <th>35544</th>\n",
       "      <td>35545</td>\n",
       "      <td>12</td>\n",
       "      <td>31</td>\n",
       "      <td>2002</td>\n",
       "      <td>15</td>\n",
       "      <td>AH</td>\n",
       "      <td>NaN</td>\n",
       "      <td>NaN</td>\n",
       "      <td>NaN</td>\n",
       "    </tr>\n",
       "    <tr>\n",
       "      <th>35545</th>\n",
       "      <td>35546</td>\n",
       "      <td>12</td>\n",
       "      <td>31</td>\n",
       "      <td>2002</td>\n",
       "      <td>15</td>\n",
       "      <td>AH</td>\n",
       "      <td>NaN</td>\n",
       "      <td>NaN</td>\n",
       "      <td>NaN</td>\n",
       "    </tr>\n",
       "    <tr>\n",
       "      <th>35548</th>\n",
       "      <td>35549</td>\n",
       "      <td>12</td>\n",
       "      <td>31</td>\n",
       "      <td>2002</td>\n",
       "      <td>5</td>\n",
       "      <td>NaN</td>\n",
       "      <td>NaN</td>\n",
       "      <td>NaN</td>\n",
       "      <td>NaN</td>\n",
       "    </tr>\n",
       "  </tbody>\n",
       "</table>\n",
       "<p>4873 rows × 9 columns</p>\n",
       "</div>"
      ],
      "text/plain": [
       "       record_id  month  day  year  site_id species_id  sex  hindfoot_length  \\\n",
       "0              1      7   16  1977        2         NL    M             32.0   \n",
       "1              2      7   16  1977        3         NL    M             33.0   \n",
       "2              3      7   16  1977        2         DM    F             37.0   \n",
       "3              4      7   16  1977        7         DM    M             36.0   \n",
       "4              5      7   16  1977        3         DM    M             35.0   \n",
       "...          ...    ...  ...   ...      ...        ...  ...              ...   \n",
       "35530      35531     12   31  2002       13         PB    F             27.0   \n",
       "35543      35544     12   31  2002       15         US  NaN              NaN   \n",
       "35544      35545     12   31  2002       15         AH  NaN              NaN   \n",
       "35545      35546     12   31  2002       15         AH  NaN              NaN   \n",
       "35548      35549     12   31  2002        5        NaN  NaN              NaN   \n",
       "\n",
       "       weight  \n",
       "0         NaN  \n",
       "1         NaN  \n",
       "2         NaN  \n",
       "3         NaN  \n",
       "4         NaN  \n",
       "...       ...  \n",
       "35530     NaN  \n",
       "35543     NaN  \n",
       "35544     NaN  \n",
       "35545     NaN  \n",
       "35548     NaN  \n",
       "\n",
       "[4873 rows x 9 columns]"
      ]
     },
     "execution_count": 8,
     "metadata": {},
     "output_type": "execute_result"
    }
   ],
   "source": [
    "# To select only the rows with NaN values, we can use the 'any()' method\n",
    "surveys_df[pd.isnull(surveys_df).any(axis=1)]"
   ]
  },
  {
   "cell_type": "markdown",
   "id": "a2c956eb",
   "metadata": {},
   "source": [
    "### Explaination\n",
    "\n",
    "Notice that we have `4873` observations/rows that contain one or more missing values. \n",
    "Thats roughly `14%` of data contains missing values.\n",
    "\n",
    "We have used `[]` convension to select subset of data. \n",
    "\n",
    "More information about slicing and indexing can be found out [here](indexing.md).\n",
    "\n",
    "**(axis=1)** is a numpy convention to specify columns. \n",
    "\n",
    "Note that the `weight` column of our DataFrame contains many `null` or `NaN`\n",
    "values. Next, we will explore ways of dealing with this.\n",
    "\n",
    "If we look at the `weight` column in the surveys\n",
    "data we notice that there are NaN (**N**ot **a** **N**umber) values. *NaN* values are undefined\n",
    "values that cannot be represented mathematically. Pandas, for example, will read\n",
    "an empty cell in a CSV or Excel sheet as a NaN. NaNs have some desirable properties: if we\n",
    "were to average the `weight` column without replacing our NaNs, Python would know to skip\n",
    "over those cells."
   ]
  },
  {
   "cell_type": "markdown",
   "id": "01330fc3",
   "metadata": {},
   "source": [
    "### Dealing with missing values.\n",
    "\n",
    "Dealing with missing data values is always a challenge. It's sometimes hard to\n",
    "know why values are missing - was it because of a data entry error? Or data that\n",
    "someone was unable to collect? Should the value be 0? We need to know how\n",
    "missing values are represented in the dataset in order to make good decisions.\n",
    "If we're lucky, we have some metadata that will tell us more about how null\n",
    "values were handled.\n",
    "\n",
    "For instance, in some disciplines, like Remote Sensing, missing data values are\n",
    "often defined as -9999. Having a bunch of -9999 values in your data could really\n",
    "alter numeric calculations. Often in spreadsheets, cells are left empty where no\n",
    "data are available. Pandas will, by default, replace those missing values with\n",
    "NaN. However it is good practice to get in the habit of intentionally marking\n",
    "cells that have no data, with a no data value! That way there are no questions\n",
    "in the future when you (or someone else) explores your data.\n",
    "\n",
    "### Where Are the NaN's?\n",
    "\n",
    "Let's explore the NaN values in our data a bit further. Using the tools we\n",
    "learned in lesson 02, we can figure out how many rows contain NaN values for\n",
    "weight. We can also create a new subset from our data that only contains rows\n",
    "with weight values > 0 (i.e., select meaningful weight values):"
   ]
  },
  {
   "cell_type": "code",
   "execution_count": 9,
   "id": "70c88add",
   "metadata": {},
   "outputs": [
    {
     "data": {
      "text/plain": [
       "3266"
      ]
     },
     "execution_count": 9,
     "metadata": {},
     "output_type": "execute_result"
    }
   ],
   "source": [
    "## How many missing values are there in weight column?\n",
    "len(surveys_df[pd.isnull(surveys_df.weight)])"
   ]
  },
  {
   "cell_type": "code",
   "execution_count": 10,
   "id": "68e43a65",
   "metadata": {},
   "outputs": [
    {
     "data": {
      "text/plain": [
       "32283"
      ]
     },
     "execution_count": 10,
     "metadata": {},
     "output_type": "execute_result"
    }
   ],
   "source": [
    "# How many rows have weight values?\n",
    "len(surveys_df[surveys_df.weight> 0])"
   ]
  },
  {
   "cell_type": "markdown",
   "id": "61339be5",
   "metadata": {},
   "source": [
    "We can replace all NaN values with zeroes using the `.fillna()` method (after\n",
    "making a copy of the data so we don't lose our work):"
   ]
  },
  {
   "cell_type": "code",
   "execution_count": 11,
   "id": "ce1070ea",
   "metadata": {
    "jupyter": {
     "outputs_hidden": true
    }
   },
   "outputs": [],
   "source": [
    "# Creat a new DataFrame using copy\n",
    "df1 = surveys_df.copy()\n",
    "\n",
    "# Fill all NaN values with 0\n",
    "df1['weight'] = df1['weight'].fillna(0)"
   ]
  },
  {
   "cell_type": "markdown",
   "id": "89f51d06",
   "metadata": {},
   "source": [
    "However NaN and 0 yield different analysis results. The mean value when NaN\n",
    "values are replaced with 0 is different from when NaN values are simply thrown\n",
    "out or ignored."
   ]
  },
  {
   "cell_type": "code",
   "execution_count": 12,
   "id": "a2486afe",
   "metadata": {},
   "outputs": [
    {
     "data": {
      "text/plain": [
       "42.672428212991356"
      ]
     },
     "execution_count": 12,
     "metadata": {},
     "output_type": "execute_result"
    }
   ],
   "source": [
    "surveys_df['weight'].mean()"
   ]
  },
  {
   "cell_type": "code",
   "execution_count": 13,
   "id": "ec9207b4",
   "metadata": {},
   "outputs": [
    {
     "data": {
      "text/plain": [
       "38.751976145601844"
      ]
     },
     "execution_count": 13,
     "metadata": {},
     "output_type": "execute_result"
    }
   ],
   "source": [
    "df1['weight'].mean()"
   ]
  },
  {
   "cell_type": "markdown",
   "id": "892984af",
   "metadata": {},
   "source": [
    "### _Extra Information_\n",
    "We can fill NaN values with any value that we chose. The code below fills all\n",
    "NaN values with a mean for all weight values."
   ]
  },
  {
   "cell_type": "code",
   "execution_count": 14,
   "id": "6c0124d0",
   "metadata": {
    "jupyter": {
     "outputs_hidden": true
    }
   },
   "outputs": [],
   "source": [
    "df1['weight'] = surveys_df['weight'].fillna(surveys_df['weight'].mean())"
   ]
  },
  {
   "cell_type": "code",
   "execution_count": 15,
   "id": "1cea64b7",
   "metadata": {},
   "outputs": [
    {
     "data": {
      "text/plain": [
       "42.672428212991356"
      ]
     },
     "execution_count": 15,
     "metadata": {},
     "output_type": "execute_result"
    }
   ],
   "source": [
    "df1['weight'].mean()"
   ]
  },
  {
   "cell_type": "markdown",
   "id": "6d4060b2",
   "metadata": {},
   "source": [
    "## Writing Out Data to CSV\n",
    "\n",
    "We've learned about using manipulating data to get desired outputs. But we've also discussed\n",
    "keeping data that has been manipulated separate from our raw data. Something we might be interested\n",
    "in doing is working with only the columns that have full data. First, let's reload the data so\n",
    "we're not mixing up all of our previous manipulations."
   ]
  },
  {
   "cell_type": "code",
   "execution_count": 16,
   "id": "09637bb9",
   "metadata": {
    "jupyter": {
     "outputs_hidden": true
    }
   },
   "outputs": [],
   "source": [
    "df_na = surveys_df.dropna()"
   ]
  },
  {
   "cell_type": "markdown",
   "id": "2b5ac46d",
   "metadata": {},
   "source": [
    "If you now type ```df_na```, you should observe that the resulting DataFrame has `30676` rows\n",
    "and 9 columns, much smaller than the `35549` row original.\n",
    "\n",
    "We can now use the `to_csv` command to do export a DataFrame in CSV format. Note that the code\n",
    "below will by default save the data into the current working directory. We can\n",
    "save it to a different folder by adding the foldername and a slash before the filename:\n",
    "`df1.to_csv('foldername/out.csv')`. \n",
    "We use 'index=False' so that\n",
    "pandas doesn't include the index number for each line."
   ]
  },
  {
   "cell_type": "code",
   "execution_count": 17,
   "id": "baa8c3b3",
   "metadata": {
    "jupyter": {
     "outputs_hidden": true
    }
   },
   "outputs": [],
   "source": [
    "# Write DataFrame to CSV\n",
    "df_na.to_csv('output/surveys_complete.csv', index=False)"
   ]
  },
  {
   "cell_type": "markdown",
   "id": "1530fb0c",
   "metadata": {},
   "source": [
    "### Recap\n",
    "\n",
    "What we've learned:\n",
    "\n",
    "+ What NaN values are, how they might be represented, and what this means for your work\n",
    "+ How to replace NaN values, if desired\n",
    "+ How to use `to_csv` to write manipulated data to a file."
   ]
  },
  {
   "cell_type": "markdown",
   "id": "144fde88",
   "metadata": {},
   "source": [
    "## _Extra_\n",
    "We can run `isnull` on a particular column too. What does the code below do?"
   ]
  },
  {
   "cell_type": "code",
   "execution_count": 18,
   "id": "3f145c07",
   "metadata": {},
   "outputs": [
    {
     "name": "stdout",
     "output_type": "stream",
     "text": [
      "0       NaN\n",
      "1       NaN\n",
      "2       NaN\n",
      "3       NaN\n",
      "4       NaN\n",
      "         ..\n",
      "35530   NaN\n",
      "35543   NaN\n",
      "35544   NaN\n",
      "35545   NaN\n",
      "35548   NaN\n",
      "Name: weight, Length: 3266, dtype: float64\n"
     ]
    }
   ],
   "source": [
    "# What does this do?\n",
    "empty_weights = surveys_df[pd.isnull(surveys_df['weight'])]['weight']\n",
    "print(empty_weights)"
   ]
  },
  {
   "cell_type": "markdown",
   "id": "09f09adf",
   "metadata": {},
   "source": [
    "Let's take a minute to look at the statement above. We are using the Boolean\n",
    "object `pd.isnull(surveys_df['weight'])` as an index to `surveys_df`. We are\n",
    "asking Python to select rows that have a `NaN` value of weight."
   ]
  }
 ],
 "metadata": {
  "jupytext": {
   "formats": "ipynb,md:myst",
   "text_representation": {
    "extension": ".md",
    "format_name": "myst",
    "format_version": 0.13,
    "jupytext_version": "1.11.5"
   }
  },
  "kernelspec": {
   "display_name": "Python 3",
   "language": "python",
   "name": "python3"
  },
  "language_info": {
   "codemirror_mode": {
    "name": "ipython",
    "version": 3
   },
   "file_extension": ".py",
   "mimetype": "text/x-python",
   "name": "python",
   "nbconvert_exporter": "python",
   "pygments_lexer": "ipython3",
   "version": "3.8.5"
  },
  "source_map": [
   15,
   41,
   49,
   53,
   57,
   64,
   68,
   70,
   80,
   89,
   93,
   95,
   104,
   106,
   114,
   117,
   141,
   168,
   173,
   176,
   181,
   191,
   198,
   202,
   204,
   210,
   218,
   220,
   229,
   235,
   248,
   255,
   266,
   271,
   275
  ]
 },
 "nbformat": 4,
 "nbformat_minor": 5
}