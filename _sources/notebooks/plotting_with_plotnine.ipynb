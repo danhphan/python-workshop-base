{
 "cells": [
  {
   "cell_type": "markdown",
   "id": "56d8d8df",
   "metadata": {},
   "source": [
    "# Making Plots With plotnine (aka ggplot)"
   ]
  },
  {
   "cell_type": "markdown",
   "id": "6952704f",
   "metadata": {
    "tags": [
     "solution"
    ]
   },
   "source": [
    "## Instructor notes\n",
    "\n",
    "*Estimated teaching time:* 40 min\n",
    "\n",
    "*Estimated challenge time:* 50 min\n",
    "\n",
    "*Key questions:*\n",
    "\n",
    "  - \" How can I visualize data in Python ?\"\n",
    "  - \" What is 'grammar of graphics' ?\"\n",
    "    \n",
    "*Learning objectives:*\n",
    "\n",
    "  - \"Familiarise yourself with The Grammar of Graphics through plotinine library\"\n",
    "  - \"Create a ggplot object.\"\n",
    "  - \"Explore different geom objects\"\n",
    "  - \"Explore other layers of ggplot, including themes and labels\"\n",
    "\n",
    "*Key points:*\n",
    "\n",
    "  - \"plotnine is python implementation of The Gramma of Graphics\"\n",
    "  - \"ggplot is a set of gramma rules to make publication quality plots\"\n",
    "  - \"ggplot has idea of layer, building a plot is just adding different layers together\""
   ]
  },
  {
   "cell_type": "markdown",
   "id": "1e68940c",
   "metadata": {},
   "source": [
    "## Introduction\n",
    "\n",
    "Python has a number of powerful plotting libraries to choose from. One of the oldest and most popular is [`matplotlib`](https://matplotlib.org/) - it forms the foundation for many other Python plotting libraries. For this exercise we are going to use [`plotnine`](https://plotnine.readthedocs.io/en/stable/) which is a Python implementation of the [The Grammar of Graphics](http://link.springer.com/book/10.1007%2F0-387-28695-0), inspired by the interface of the [`ggplot2`](http://ggplot2.org/) package from R. `plotnine` (and it's R cousin `ggplot2`) is a very nice way to create publication quality plots.\n",
    "\n",
    "#### The Grammar of Graphics\n",
    "\n",
    "> Statistical graphics is a mapping from data to aesthetic attributes (colour, shape, size) of geometric objects (points, lines, bars)\n",
    "\n",
    "> Faceting can be used to generate the same plot for different subsets of the dataset\n",
    "\n",
    "These are basic building blocks according to the grammar of graphics:\n",
    "\n",
    "- **data** The data + a set of aesthetic mappings that describing variables mapping\n",
    "- **geom** Geometric objects, represent what you actually see on the plot: points, lines, polygons, etc.\n",
    "- **stats** Statistical transformations, summarise data in many useful ways.\n",
    "- **scale** The scales map values in the data space to values in an aesthetic space\n",
    "- **coord** A coordinate system, describes how data coordinates are mapped to the plane of the graphic.\n",
    "- **facet** A faceting specification describes how to break up the data into subsets for plotting individual set\n",
    "\n",
    "Let's explore these in detail."
   ]
  },
  {
   "cell_type": "markdown",
   "id": "f699197a",
   "metadata": {},
   "source": [
    "First, install the `pandas` and `plotnine` packages to ensure they are available."
   ]
  },
  {
   "cell_type": "code",
   "execution_count": 1,
   "id": "24d87341",
   "metadata": {},
   "outputs": [
    {
     "name": "stdout",
     "output_type": "stream",
     "text": [
      "Requirement already satisfied: pandas in /home/danph/Repos/win_ssd/myprojects/python-workshop-base/.venv/lib/python3.8/site-packages (1.4.0)\r\n",
      "Requirement already satisfied: plotnine in /home/danph/Repos/win_ssd/myprojects/python-workshop-base/.venv/lib/python3.8/site-packages (0.8.0)\r\n",
      "Requirement already satisfied: numpy>=1.18.5 in /home/danph/Repos/win_ssd/myprojects/python-workshop-base/.venv/lib/python3.8/site-packages (from pandas) (1.22.2)\r\n",
      "Requirement already satisfied: python-dateutil>=2.8.1 in /home/danph/Repos/win_ssd/myprojects/python-workshop-base/.venv/lib/python3.8/site-packages (from pandas) (2.8.2)\r\n",
      "Requirement already satisfied: pytz>=2020.1 in /home/danph/Repos/win_ssd/myprojects/python-workshop-base/.venv/lib/python3.8/site-packages (from pandas) (2021.3)\r\n",
      "Requirement already satisfied: matplotlib>=3.1.1 in /home/danph/Repos/win_ssd/myprojects/python-workshop-base/.venv/lib/python3.8/site-packages (from plotnine) (3.5.1)\r\n",
      "Requirement already satisfied: patsy>=0.5.1 in /home/danph/Repos/win_ssd/myprojects/python-workshop-base/.venv/lib/python3.8/site-packages (from plotnine) (0.5.2)\r\n",
      "Requirement already satisfied: descartes>=1.1.0 in /home/danph/Repos/win_ssd/myprojects/python-workshop-base/.venv/lib/python3.8/site-packages (from plotnine) (1.1.0)\r\n",
      "Requirement already satisfied: statsmodels>=0.12.1 in /home/danph/Repos/win_ssd/myprojects/python-workshop-base/.venv/lib/python3.8/site-packages (from plotnine) (0.13.2)\r\n",
      "Requirement already satisfied: scipy>=1.5.0 in /home/danph/Repos/win_ssd/myprojects/python-workshop-base/.venv/lib/python3.8/site-packages (from plotnine) (1.8.0)\r\n",
      "Requirement already satisfied: mizani>=0.7.3 in /home/danph/Repos/win_ssd/myprojects/python-workshop-base/.venv/lib/python3.8/site-packages (from plotnine) (0.7.3)\r\n"
     ]
    },
    {
     "name": "stdout",
     "output_type": "stream",
     "text": [
      "Requirement already satisfied: packaging>=20.0 in /home/danph/Repos/win_ssd/myprojects/python-workshop-base/.venv/lib/python3.8/site-packages (from matplotlib>=3.1.1->plotnine) (21.3)\r\n",
      "Requirement already satisfied: fonttools>=4.22.0 in /home/danph/Repos/win_ssd/myprojects/python-workshop-base/.venv/lib/python3.8/site-packages (from matplotlib>=3.1.1->plotnine) (4.29.1)\r\n",
      "Requirement already satisfied: cycler>=0.10 in /home/danph/Repos/win_ssd/myprojects/python-workshop-base/.venv/lib/python3.8/site-packages (from matplotlib>=3.1.1->plotnine) (0.11.0)\r\n",
      "Requirement already satisfied: pyparsing>=2.2.1 in /home/danph/Repos/win_ssd/myprojects/python-workshop-base/.venv/lib/python3.8/site-packages (from matplotlib>=3.1.1->plotnine) (3.0.7)\r\n",
      "Requirement already satisfied: kiwisolver>=1.0.1 in /home/danph/Repos/win_ssd/myprojects/python-workshop-base/.venv/lib/python3.8/site-packages (from matplotlib>=3.1.1->plotnine) (1.3.2)\r\n",
      "Requirement already satisfied: pillow>=6.2.0 in /home/danph/Repos/win_ssd/myprojects/python-workshop-base/.venv/lib/python3.8/site-packages (from matplotlib>=3.1.1->plotnine) (9.0.1)\r\n",
      "Requirement already satisfied: palettable in /home/danph/Repos/win_ssd/myprojects/python-workshop-base/.venv/lib/python3.8/site-packages (from mizani>=0.7.3->plotnine) (3.3.0)\r\n",
      "Requirement already satisfied: six in /home/danph/Repos/win_ssd/myprojects/python-workshop-base/.venv/lib/python3.8/site-packages (from patsy>=0.5.1->plotnine) (1.16.0)\r\n"
     ]
    }
   ],
   "source": [
    "!pip install pandas plotnine"
   ]
  },
  {
   "cell_type": "code",
   "execution_count": 2,
   "id": "ea40466e",
   "metadata": {},
   "outputs": [],
   "source": [
    "# We run this to suppress various deprecation warnings from plotnine - keeps our notebook cleaner\n",
    "import warnings\n",
    "warnings.filterwarnings('ignore')"
   ]
  },
  {
   "cell_type": "markdown",
   "id": "7efeb174",
   "metadata": {},
   "source": [
    "# Plotting in ggplot style\n",
    "\n",
    "Let's set up our working environment with necessary libraries and also load our csv file into data frame called `survs_df`,"
   ]
  },
  {
   "cell_type": "code",
   "execution_count": 3,
   "id": "631fea64",
   "metadata": {},
   "outputs": [
    {
     "ename": "FileNotFoundError",
     "evalue": "[Errno 2] No such file or directory: 'surveys.csv'",
     "output_type": "error",
     "traceback": [
      "\u001b[0;31m---------------------------------------------------------------------------\u001b[0m",
      "\u001b[0;31mFileNotFoundError\u001b[0m                         Traceback (most recent call last)",
      "\u001b[0;32m/tmp/ipykernel_22261/695840878.py\u001b[0m in \u001b[0;36m<module>\u001b[0;34m\u001b[0m\n\u001b[1;32m      4\u001b[0m \u001b[0;34m\u001b[0m\u001b[0m\n\u001b[1;32m      5\u001b[0m \u001b[0mget_ipython\u001b[0m\u001b[0;34m(\u001b[0m\u001b[0;34m)\u001b[0m\u001b[0;34m.\u001b[0m\u001b[0mrun_line_magic\u001b[0m\u001b[0;34m(\u001b[0m\u001b[0;34m'matplotlib'\u001b[0m\u001b[0;34m,\u001b[0m \u001b[0;34m'inline'\u001b[0m\u001b[0;34m)\u001b[0m\u001b[0;34m\u001b[0m\u001b[0;34m\u001b[0m\u001b[0m\n\u001b[0;32m----> 6\u001b[0;31m \u001b[0msurvs_df\u001b[0m \u001b[0;34m=\u001b[0m \u001b[0mpd\u001b[0m\u001b[0;34m.\u001b[0m\u001b[0mread_csv\u001b[0m\u001b[0;34m(\u001b[0m\u001b[0;34m'surveys.csv'\u001b[0m\u001b[0;34m)\u001b[0m\u001b[0;34m.\u001b[0m\u001b[0mdropna\u001b[0m\u001b[0;34m(\u001b[0m\u001b[0;34m)\u001b[0m\u001b[0;34m\u001b[0m\u001b[0;34m\u001b[0m\u001b[0m\n\u001b[0m",
      "\u001b[0;32m~/Repos/win_ssd/myprojects/python-workshop-base/.venv/lib/python3.8/site-packages/pandas/util/_decorators.py\u001b[0m in \u001b[0;36mwrapper\u001b[0;34m(*args, **kwargs)\u001b[0m\n\u001b[1;32m    309\u001b[0m                     \u001b[0mstacklevel\u001b[0m\u001b[0;34m=\u001b[0m\u001b[0mstacklevel\u001b[0m\u001b[0;34m,\u001b[0m\u001b[0;34m\u001b[0m\u001b[0;34m\u001b[0m\u001b[0m\n\u001b[1;32m    310\u001b[0m                 )\n\u001b[0;32m--> 311\u001b[0;31m             \u001b[0;32mreturn\u001b[0m \u001b[0mfunc\u001b[0m\u001b[0;34m(\u001b[0m\u001b[0;34m*\u001b[0m\u001b[0margs\u001b[0m\u001b[0;34m,\u001b[0m \u001b[0;34m**\u001b[0m\u001b[0mkwargs\u001b[0m\u001b[0;34m)\u001b[0m\u001b[0;34m\u001b[0m\u001b[0;34m\u001b[0m\u001b[0m\n\u001b[0m\u001b[1;32m    312\u001b[0m \u001b[0;34m\u001b[0m\u001b[0m\n\u001b[1;32m    313\u001b[0m         \u001b[0;32mreturn\u001b[0m \u001b[0mwrapper\u001b[0m\u001b[0;34m\u001b[0m\u001b[0;34m\u001b[0m\u001b[0m\n",
      "\u001b[0;32m~/Repos/win_ssd/myprojects/python-workshop-base/.venv/lib/python3.8/site-packages/pandas/io/parsers/readers.py\u001b[0m in \u001b[0;36mread_csv\u001b[0;34m(filepath_or_buffer, sep, delimiter, header, names, index_col, usecols, squeeze, prefix, mangle_dupe_cols, dtype, engine, converters, true_values, false_values, skipinitialspace, skiprows, skipfooter, nrows, na_values, keep_default_na, na_filter, verbose, skip_blank_lines, parse_dates, infer_datetime_format, keep_date_col, date_parser, dayfirst, cache_dates, iterator, chunksize, compression, thousands, decimal, lineterminator, quotechar, quoting, doublequote, escapechar, comment, encoding, encoding_errors, dialect, error_bad_lines, warn_bad_lines, on_bad_lines, delim_whitespace, low_memory, memory_map, float_precision, storage_options)\u001b[0m\n\u001b[1;32m    678\u001b[0m     \u001b[0mkwds\u001b[0m\u001b[0;34m.\u001b[0m\u001b[0mupdate\u001b[0m\u001b[0;34m(\u001b[0m\u001b[0mkwds_defaults\u001b[0m\u001b[0;34m)\u001b[0m\u001b[0;34m\u001b[0m\u001b[0;34m\u001b[0m\u001b[0m\n\u001b[1;32m    679\u001b[0m \u001b[0;34m\u001b[0m\u001b[0m\n\u001b[0;32m--> 680\u001b[0;31m     \u001b[0;32mreturn\u001b[0m \u001b[0m_read\u001b[0m\u001b[0;34m(\u001b[0m\u001b[0mfilepath_or_buffer\u001b[0m\u001b[0;34m,\u001b[0m \u001b[0mkwds\u001b[0m\u001b[0;34m)\u001b[0m\u001b[0;34m\u001b[0m\u001b[0;34m\u001b[0m\u001b[0m\n\u001b[0m\u001b[1;32m    681\u001b[0m \u001b[0;34m\u001b[0m\u001b[0m\n\u001b[1;32m    682\u001b[0m \u001b[0;34m\u001b[0m\u001b[0m\n",
      "\u001b[0;32m~/Repos/win_ssd/myprojects/python-workshop-base/.venv/lib/python3.8/site-packages/pandas/io/parsers/readers.py\u001b[0m in \u001b[0;36m_read\u001b[0;34m(filepath_or_buffer, kwds)\u001b[0m\n\u001b[1;32m    573\u001b[0m \u001b[0;34m\u001b[0m\u001b[0m\n\u001b[1;32m    574\u001b[0m     \u001b[0;31m# Create the parser.\u001b[0m\u001b[0;34m\u001b[0m\u001b[0;34m\u001b[0m\u001b[0;34m\u001b[0m\u001b[0m\n\u001b[0;32m--> 575\u001b[0;31m     \u001b[0mparser\u001b[0m \u001b[0;34m=\u001b[0m \u001b[0mTextFileReader\u001b[0m\u001b[0;34m(\u001b[0m\u001b[0mfilepath_or_buffer\u001b[0m\u001b[0;34m,\u001b[0m \u001b[0;34m**\u001b[0m\u001b[0mkwds\u001b[0m\u001b[0;34m)\u001b[0m\u001b[0;34m\u001b[0m\u001b[0;34m\u001b[0m\u001b[0m\n\u001b[0m\u001b[1;32m    576\u001b[0m \u001b[0;34m\u001b[0m\u001b[0m\n\u001b[1;32m    577\u001b[0m     \u001b[0;32mif\u001b[0m \u001b[0mchunksize\u001b[0m \u001b[0;32mor\u001b[0m \u001b[0miterator\u001b[0m\u001b[0;34m:\u001b[0m\u001b[0;34m\u001b[0m\u001b[0;34m\u001b[0m\u001b[0m\n",
      "\u001b[0;32m~/Repos/win_ssd/myprojects/python-workshop-base/.venv/lib/python3.8/site-packages/pandas/io/parsers/readers.py\u001b[0m in \u001b[0;36m__init__\u001b[0;34m(self, f, engine, **kwds)\u001b[0m\n\u001b[1;32m    931\u001b[0m \u001b[0;34m\u001b[0m\u001b[0m\n\u001b[1;32m    932\u001b[0m         \u001b[0mself\u001b[0m\u001b[0;34m.\u001b[0m\u001b[0mhandles\u001b[0m\u001b[0;34m:\u001b[0m \u001b[0mIOHandles\u001b[0m \u001b[0;34m|\u001b[0m \u001b[0;32mNone\u001b[0m \u001b[0;34m=\u001b[0m \u001b[0;32mNone\u001b[0m\u001b[0;34m\u001b[0m\u001b[0;34m\u001b[0m\u001b[0m\n\u001b[0;32m--> 933\u001b[0;31m         \u001b[0mself\u001b[0m\u001b[0;34m.\u001b[0m\u001b[0m_engine\u001b[0m \u001b[0;34m=\u001b[0m \u001b[0mself\u001b[0m\u001b[0;34m.\u001b[0m\u001b[0m_make_engine\u001b[0m\u001b[0;34m(\u001b[0m\u001b[0mf\u001b[0m\u001b[0;34m,\u001b[0m \u001b[0mself\u001b[0m\u001b[0;34m.\u001b[0m\u001b[0mengine\u001b[0m\u001b[0;34m)\u001b[0m\u001b[0;34m\u001b[0m\u001b[0;34m\u001b[0m\u001b[0m\n\u001b[0m\u001b[1;32m    934\u001b[0m \u001b[0;34m\u001b[0m\u001b[0m\n\u001b[1;32m    935\u001b[0m     \u001b[0;32mdef\u001b[0m \u001b[0mclose\u001b[0m\u001b[0;34m(\u001b[0m\u001b[0mself\u001b[0m\u001b[0;34m)\u001b[0m\u001b[0;34m:\u001b[0m\u001b[0;34m\u001b[0m\u001b[0;34m\u001b[0m\u001b[0m\n",
      "\u001b[0;32m~/Repos/win_ssd/myprojects/python-workshop-base/.venv/lib/python3.8/site-packages/pandas/io/parsers/readers.py\u001b[0m in \u001b[0;36m_make_engine\u001b[0;34m(self, f, engine)\u001b[0m\n\u001b[1;32m   1215\u001b[0m             \u001b[0;31m# \"Union[str, PathLike[str], ReadCsvBuffer[bytes], ReadCsvBuffer[str]]\"\u001b[0m\u001b[0;34m\u001b[0m\u001b[0;34m\u001b[0m\u001b[0;34m\u001b[0m\u001b[0m\n\u001b[1;32m   1216\u001b[0m             \u001b[0;31m# , \"str\", \"bool\", \"Any\", \"Any\", \"Any\", \"Any\", \"Any\"\u001b[0m\u001b[0;34m\u001b[0m\u001b[0;34m\u001b[0m\u001b[0;34m\u001b[0m\u001b[0m\n\u001b[0;32m-> 1217\u001b[0;31m             self.handles = get_handle(  # type: ignore[call-overload]\n\u001b[0m\u001b[1;32m   1218\u001b[0m                 \u001b[0mf\u001b[0m\u001b[0;34m,\u001b[0m\u001b[0;34m\u001b[0m\u001b[0;34m\u001b[0m\u001b[0m\n\u001b[1;32m   1219\u001b[0m                 \u001b[0mmode\u001b[0m\u001b[0;34m,\u001b[0m\u001b[0;34m\u001b[0m\u001b[0;34m\u001b[0m\u001b[0m\n",
      "\u001b[0;32m~/Repos/win_ssd/myprojects/python-workshop-base/.venv/lib/python3.8/site-packages/pandas/io/common.py\u001b[0m in \u001b[0;36mget_handle\u001b[0;34m(path_or_buf, mode, encoding, compression, memory_map, is_text, errors, storage_options)\u001b[0m\n\u001b[1;32m    787\u001b[0m         \u001b[0;32mif\u001b[0m \u001b[0mioargs\u001b[0m\u001b[0;34m.\u001b[0m\u001b[0mencoding\u001b[0m \u001b[0;32mand\u001b[0m \u001b[0;34m\"b\"\u001b[0m \u001b[0;32mnot\u001b[0m \u001b[0;32min\u001b[0m \u001b[0mioargs\u001b[0m\u001b[0;34m.\u001b[0m\u001b[0mmode\u001b[0m\u001b[0;34m:\u001b[0m\u001b[0;34m\u001b[0m\u001b[0;34m\u001b[0m\u001b[0m\n\u001b[1;32m    788\u001b[0m             \u001b[0;31m# Encoding\u001b[0m\u001b[0;34m\u001b[0m\u001b[0;34m\u001b[0m\u001b[0;34m\u001b[0m\u001b[0m\n\u001b[0;32m--> 789\u001b[0;31m             handle = open(\n\u001b[0m\u001b[1;32m    790\u001b[0m                 \u001b[0mhandle\u001b[0m\u001b[0;34m,\u001b[0m\u001b[0;34m\u001b[0m\u001b[0;34m\u001b[0m\u001b[0m\n\u001b[1;32m    791\u001b[0m                 \u001b[0mioargs\u001b[0m\u001b[0;34m.\u001b[0m\u001b[0mmode\u001b[0m\u001b[0;34m,\u001b[0m\u001b[0;34m\u001b[0m\u001b[0;34m\u001b[0m\u001b[0m\n",
      "\u001b[0;31mFileNotFoundError\u001b[0m: [Errno 2] No such file or directory: 'surveys.csv'"
     ]
    }
   ],
   "source": [
    "import numpy as np\n",
    "import pandas as pd\n",
    "from plotnine import *\n",
    "\n",
    "%matplotlib inline\n",
    "survs_df = pd.read_csv('surveys.csv').dropna()"
   ]
  },
  {
   "cell_type": "markdown",
   "id": "f45fbcd5",
   "metadata": {},
   "source": [
    "To produce a plot with the `ggplot` class from `plotnine`, we must provide three things:\n",
    "\n",
    "1. A data frame containing our data.\n",
    "2. How the columns of the data frame can be translated into positions, colors, sizes, and shapes of graphical elements (\"aesthetics\").\n",
    "3. The actual graphical elements to display (\"geometric objects\")."
   ]
  },
  {
   "cell_type": "markdown",
   "id": "81343109",
   "metadata": {},
   "source": [
    "## Introduction to plotting"
   ]
  },
  {
   "cell_type": "code",
   "execution_count": null,
   "id": "ba75250b",
   "metadata": {},
   "outputs": [],
   "source": [
    "ggplot(survs_df, aes(x='weight', y='hindfoot_length')) + geom_point()"
   ]
  },
  {
   "cell_type": "markdown",
   "id": "39f14d38",
   "metadata": {},
   "source": [
    "Let's see if we can also include information about species and year."
   ]
  },
  {
   "cell_type": "code",
   "execution_count": null,
   "id": "2668c8f1",
   "metadata": {},
   "outputs": [],
   "source": [
    "ggplot(survs_df, aes(x='weight', y='hindfoot_length',\n",
    "    size = 'year')) + geom_point()"
   ]
  },
  {
   "cell_type": "markdown",
   "id": "c2e4fd64",
   "metadata": {},
   "source": [
    "Notice that we've dropped the `x=` and `y=` ? These are implied for the first and second argument of `aes()`."
   ]
  },
  {
   "cell_type": "code",
   "execution_count": null,
   "id": "60b11441",
   "metadata": {},
   "outputs": [],
   "source": [
    "ggplot(survs_df, aes(x='weight', y='hindfoot_length', \n",
    "    size = 'year', color = 'species_id')) + geom_point()"
   ]
  },
  {
   "cell_type": "markdown",
   "id": "e6a5af28",
   "metadata": {},
   "source": [
    "We can do simple counting plot, to see how many observation (data points) we have for each year for example"
   ]
  },
  {
   "cell_type": "code",
   "execution_count": null,
   "id": "5d687a70",
   "metadata": {},
   "outputs": [],
   "source": [
    "ggplot(survs_df, aes(x='year')) + \\\n",
    "    geom_bar(stat = 'count')"
   ]
  },
  {
   "cell_type": "markdown",
   "id": "56ead32e",
   "metadata": {},
   "source": [
    "Let's now also color by species to see how many observation we have per species in a given year"
   ]
  },
  {
   "cell_type": "code",
   "execution_count": null,
   "id": "43b9be19",
   "metadata": {},
   "outputs": [],
   "source": [
    "ggplot(survs_df, aes(x='year', fill = 'species_id')) + \\\n",
    "    geom_bar(stat = 'count')"
   ]
  },
  {
   "cell_type": "markdown",
   "id": "3d312bb9",
   "metadata": {
    "tags": [
     "challenge"
    ]
   },
   "source": [
    "## Challenges\n",
    "\n",
    "1. Produce a plot comparing the number of observations for each species at each site. The plot should have `site_id` on the x axis, ideally as categorical data. (HINT: You can convert a column in a DataFrame `df` to the 'category' type using: `df['some_col_name'] = df['some_col_name'].astype('category')`)\n",
    "\n",
    "2. Create a **boxplot** of `hindfoot_length` across different species (`species_id` column) (HINT: There's a list of _geoms_ available for `plotnine` in the [docs](https://plotnine.readthedocs.io/en/stable/api.html#geoms) - instead of `geom_bar`, which one should you use ?)"
   ]
  },
  {
   "cell_type": "markdown",
   "id": "c077786d",
   "metadata": {
    "tags": [
     "solution"
    ]
   },
   "source": [
    "## Solutions"
   ]
  },
  {
   "cell_type": "code",
   "execution_count": null,
   "id": "6fb75c00",
   "metadata": {
    "tags": [
     "solution"
    ]
   },
   "outputs": [],
   "source": [
    "# Part 1\n",
    "\n",
    "# We convert site_id into a categorical column.\n",
    "# This isn't strictly nessecary, but with categories we get all the x-axis labels \n",
    "# (with continuous we don't by default) - try both and see\n",
    "survs_df['site_id'] = survs_df['site_id'].astype('category')\n",
    "\n",
    "ggplot(survs_df, aes(x='site_id', fill = 'species_id')) \\\n",
    "    + geom_bar(stat='count')"
   ]
  },
  {
   "cell_type": "code",
   "execution_count": null,
   "id": "a5b2417e",
   "metadata": {
    "tags": [
     "solution"
    ]
   },
   "outputs": [],
   "source": [
    "# Part 2\n",
    "ggplot(survs_df, aes(x='species_id', y='hindfoot_length')) + \\\n",
    "    geom_boxplot() + \\\n",
    "    theme(axis_text_x = element_text(angle=90, hjust=1))"
   ]
  },
  {
   "cell_type": "markdown",
   "id": "2e03b8b2",
   "metadata": {},
   "source": [
    "## More geom types"
   ]
  },
  {
   "cell_type": "code",
   "execution_count": null,
   "id": "32b5bb2f",
   "metadata": {},
   "outputs": [],
   "source": [
    "ggplot(survs_df, aes(x='year', y='weight')) + \\\n",
    "    geom_boxplot()"
   ]
  },
  {
   "cell_type": "markdown",
   "id": "cdd63a66",
   "metadata": {},
   "source": [
    "Why are we not seeing mulitple boxplots, one for each year?\n",
    "This is because year variable is continuous in our data frame, but for this purpose we want it to be categorical."
   ]
  },
  {
   "cell_type": "code",
   "execution_count": null,
   "id": "0aa8b101",
   "metadata": {},
   "outputs": [],
   "source": [
    "survs_df['year_fact'] = survs_df['year'].astype(\"category\")\n",
    "\n",
    "ggplot(survs_df, aes(x='year_fact', y='weight')) + \\\n",
    "    geom_boxplot()"
   ]
  },
  {
   "cell_type": "markdown",
   "id": "e574726b",
   "metadata": {},
   "source": [
    "You'll notice the x-axis labels are overlapped. To flip them 90-degrees we can apply a `theme` so they look less cluttered. We will revisit themes later."
   ]
  },
  {
   "cell_type": "code",
   "execution_count": null,
   "id": "d6466333",
   "metadata": {},
   "outputs": [],
   "source": [
    "ggplot(survs_df, aes(x='year_fact', y='weight')) + \\\n",
    "    geom_boxplot() + \\\n",
    "    theme(axis_text_x = element_text(angle=90, hjust=1))"
   ]
  },
  {
   "cell_type": "markdown",
   "id": "63b8f877",
   "metadata": {},
   "source": [
    "To save some typing, let's define this x-axis label rotating theme as a short variable name that we can reuse:"
   ]
  },
  {
   "cell_type": "code",
   "execution_count": null,
   "id": "f65190c1",
   "metadata": {},
   "outputs": [],
   "source": [
    "flip_xlabels = theme(axis_text_x = element_text(angle=90, hjust=1))"
   ]
  },
  {
   "cell_type": "code",
   "execution_count": null,
   "id": "7c8a0cc5",
   "metadata": {},
   "outputs": [],
   "source": [
    "ggplot(survs_df, aes(x='year_fact', y='weight')) + \\\n",
    "    geom_violin() + \\\n",
    "    flip_xlabels"
   ]
  },
  {
   "cell_type": "markdown",
   "id": "1896fa39",
   "metadata": {},
   "source": [
    "To save an image for later:"
   ]
  },
  {
   "cell_type": "code",
   "execution_count": null,
   "id": "5cc91e82",
   "metadata": {},
   "outputs": [],
   "source": [
    "plt1 = ggplot(survs_df, aes(x='year_fact', y='weight')) + \\\n",
    "           geom_boxplot() + \\\n",
    "           xlab(\"Years\") + \\\n",
    "           ylab(\"Weight log2(kg)\") + \\\n",
    "           ggtitle(\"Boxplots, summary of species weight in each year\")\n",
    "\n",
    "ggsave(filename=\"plot1.png\",\n",
    "       plot=plt1,\n",
    "       device='png',\n",
    "       dpi=300,\n",
    "       height=25,\n",
    "       width=25)"
   ]
  },
  {
   "cell_type": "markdown",
   "id": "13be91c3",
   "metadata": {
    "tags": [
     "challenge"
    ]
   },
   "source": [
    "## Challenges\n",
    "\n",
    "1. Can you log2 transform `weight` and plot a \"normalised\" boxplot ? Hint: use `np.log2()` function and name new column `weight_log`.\n",
    "\n",
    "2. Does a log2 transform make this data visualisation better ?"
   ]
  },
  {
   "cell_type": "markdown",
   "id": "74a18233",
   "metadata": {
    "tags": [
     "solution"
    ]
   },
   "source": [
    "## Solution"
   ]
  },
  {
   "cell_type": "code",
   "execution_count": null,
   "id": "3a70b6b4",
   "metadata": {
    "tags": [
     "solution"
    ]
   },
   "outputs": [],
   "source": [
    "survs_df['weight_log'] = np.log2(survs_df['weight'])\n",
    "    \n",
    "ggplot(survs_df, aes(x='year_fact', y='weight_log')) + \\\n",
    "    geom_boxplot() + \\\n",
    "    xlab(\"Years\") + \\\n",
    "    ylab(\"Weight log2(kg)\") + \\\n",
    "    ggtitle(\"Boxplots, summary of species wieght in each year\") + \\\n",
    "    theme(axis_text_x = element_text(angle=90, hjust=1))"
   ]
  },
  {
   "cell_type": "markdown",
   "id": "21808686",
   "metadata": {},
   "source": [
    "## Faceting\n",
    "\n",
    "ggplot has a special technique called *faceting* that allows to split one plot\n",
    "into multiple plots based on a factor included in the dataset. We will use it to\n",
    "make one plot for a time series for each species."
   ]
  },
  {
   "cell_type": "code",
   "execution_count": null,
   "id": "901cca99",
   "metadata": {},
   "outputs": [],
   "source": [
    "ggplot(survs_df, aes(x='year_fact', y='weight')) + \\\n",
    "    geom_boxplot() + \\\n",
    "    facet_wrap(['sex']) + \\\n",
    "    flip_xlabels + \\\n",
    "    theme(axis_text_x = element_text(size=6))"
   ]
  },
  {
   "cell_type": "code",
   "execution_count": null,
   "id": "9e8375b0",
   "metadata": {},
   "outputs": [],
   "source": [
    "ggplot(survs_df, aes(x='year_fact', y='weight')) + \\\n",
    "    geom_boxplot() + \\\n",
    "    theme(axis_text_x = element_text(size=4)) + \\\n",
    "    facet_wrap(['species_id']) + \\\n",
    "    flip_xlabels"
   ]
  },
  {
   "cell_type": "markdown",
   "id": "110b7b52",
   "metadata": {},
   "source": [
    "The two faceted plots above are probably easier to interpret using the `weight_log` column we created - give it a try !"
   ]
  },
  {
   "cell_type": "markdown",
   "id": "36c20873",
   "metadata": {},
   "source": [
    "## The \"Layered Grammar of Graphics\"\n",
    "\n",
    "```erlang\n",
    "ggplot(data = <DATA>) + \n",
    "  <GEOM_FUNCTION>(\n",
    "     mapping = aes(<MAPPINGS>),\n",
    "     stat = <STAT>, \n",
    "     position = <POSITION>\n",
    "  ) +\n",
    "  <COORDINATE_FUNCTION> +\n",
    "  <FACET_FUNCTION>\n",
    "```"
   ]
  },
  {
   "cell_type": "markdown",
   "id": "f1f80c3b",
   "metadata": {},
   "source": [
    "## Theming\n",
    "\n",
    "`plotnine` allows pre-defined 'themes' to be applied as aesthetics to the plot.\n",
    "\n",
    "A list available theme you may want to experiment with is here: https://plotnine.readthedocs.io/en/stable/api.html#themes"
   ]
  },
  {
   "cell_type": "code",
   "execution_count": null,
   "id": "9b4ea245",
   "metadata": {},
   "outputs": [],
   "source": [
    "ggplot(survs_df, aes(x='year_fact', y='weight')) + \\\n",
    "    geom_boxplot() + \\\n",
    "    theme_bw() + \\\n",
    "    flip_xlabels"
   ]
  },
  {
   "cell_type": "code",
   "execution_count": null,
   "id": "5e9293f6",
   "metadata": {},
   "outputs": [],
   "source": [
    "ggplot(survs_df, aes(x='year_fact', y='weight_log')) + \\\n",
    "    geom_boxplot() + \\\n",
    "    facet_wrap(['species_id']) + \\\n",
    "    theme_xkcd() + \\\n",
    "    theme(axis_text_x = element_text(size=4, angle=90, hjust=1))"
   ]
  },
  {
   "cell_type": "markdown",
   "id": "3a236ec6",
   "metadata": {},
   "source": [
    "## Extra bits 1\n",
    "\n",
    "Let's try to bin years into decades, which could be crude but might gives simple images to look at."
   ]
  },
  {
   "cell_type": "code",
   "execution_count": null,
   "id": "f42c8a62",
   "metadata": {},
   "outputs": [],
   "source": [
    "bins = [(survs_df['year'] < 1980),\n",
    "        (survs_df['year'] < 1990),\n",
    "        (survs_df['year'] < 2000),\n",
    "        (survs_df['year'] >= 2000)]\n",
    "\n",
    "labels = ['70s', '80s', '90s', 'Z']\n",
    "\n",
    "survs_df['year_bins'] = np.select(bins, labels)"
   ]
  },
  {
   "cell_type": "code",
   "execution_count": null,
   "id": "ead9e396",
   "metadata": {},
   "outputs": [],
   "source": [
    "plt2 = ggplot(survs_df, aes(x='year_bins', y='weight_log')) + \\\n",
    "           geom_boxplot()\n",
    "plt2"
   ]
  },
  {
   "cell_type": "code",
   "execution_count": null,
   "id": "6f438e21",
   "metadata": {},
   "outputs": [],
   "source": [
    "plt2 = ggplot(survs_df, aes(x='year_bins', y='weight_log')) + \\\n",
    "           geom_boxplot() + \\\n",
    "           flip_xlabels + \\\n",
    "           facet_wrap(['species_id'])\n",
    "plt2"
   ]
  },
  {
   "cell_type": "markdown",
   "id": "2d592f91",
   "metadata": {},
   "source": [
    "## Extra bits 2\n",
    "\n",
    "This is a different way to look at your data"
   ]
  },
  {
   "cell_type": "code",
   "execution_count": null,
   "id": "4a44eedd",
   "metadata": {},
   "outputs": [],
   "source": [
    "ggplot(survs_df, aes(\"year_fact\", \"weight\")) + \\\n",
    "    stat_summary(fun_y = np.mean, fun_ymin=np.min, fun_ymax=np.max) + \\\n",
    "    theme(axis_text_x = element_text(angle=90, hjust=1))\n",
    "    \n",
    "ggplot(survs_df, aes(\"year_fact\", \"weight\")) + \\\n",
    "    stat_summary(fun_y = np.median, fun_ymin=np.min, fun_ymax=np.max) + \\\n",
    "    theme(axis_text_x = element_text(angle=90, hjust=1))\n",
    "    \n",
    "ggplot(survs_df, aes(\"year_fact\", \"weight_log\")) + \\\n",
    "    stat_summary(fun_y = np.mean, fun_ymin=np.min, fun_ymax=np.max) + \\\n",
    "    theme(axis_text_x = element_text(angle=90, hjust=1))"
   ]
  },
  {
   "cell_type": "code",
   "execution_count": null,
   "id": "fa6bc953",
   "metadata": {},
   "outputs": [],
   "source": []
  }
 ],
 "metadata": {
  "jupytext": {
   "formats": "ipynb,md:myst",
   "text_representation": {
    "extension": ".md",
    "format_name": "myst",
    "format_version": 0.13,
    "jupytext_version": "1.11.5"
   }
  },
  "kernelspec": {
   "display_name": "Python 3 (ipykernel)",
   "language": "python",
   "name": "python3"
  },
  "language_info": {
   "codemirror_mode": {
    "name": "ipython",
    "version": 3
   },
   "file_extension": ".py",
   "mimetype": "text/x-python",
   "name": "python",
   "nbconvert_exporter": "python",
   "pygments_lexer": "ipython3",
   "version": "3.8.5"
  },
  "source_map": [
   13,
   17,
   43,
   66,
   70,
   74,
   78,
   84,
   91,
   101,
   106,
   108,
   112,
   115,
   119,
   122,
   128,
   131,
   137,
   142,
   150,
   154,
   168,
   175,
   180,
   183,
   188,
   193,
   197,
   201,
   205,
   209,
   213,
   217,
   232,
   240,
   244,
   255,
   264,
   272,
   278,
   282,
   297,
   305,
   312,
   318,
   325,
   336,
   342,
   348,
   355,
   369
  ]
 },
 "nbformat": 4,
 "nbformat_minor": 5
}